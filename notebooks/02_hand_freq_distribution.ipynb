{
 "cells": [
  {
   "metadata": {
    "collapsed": true
   },
   "cell_type": "markdown",
   "source": [
    "## Section 02: Hand Frequency Distribution ##\n",
    "**Abstract**: In this notebook, we validate the frequencies of certain poker hands generated previously in [Section 01](./01_hand_simulation.ipynb). This involves verifying that each distinct seven card hand appears with a frequency that approximates its known likelihood. Subsequently, a dataframe representing the hand frequencies can be visualized and saved locally."
   ],
   "id": "b81242ee5691f217"
  },
  {
   "metadata": {
    "ExecuteTime": {
     "end_time": "2025-10-05T20:08:15.483738Z",
     "start_time": "2025-10-05T20:08:13.692537Z"
    }
   },
   "cell_type": "code",
   "source": [
    "# Imports\n",
    "import numpy as np\n",
    "import pandas as pd\n",
    "from deuces import Evaluator\n",
    "import altair as alt"
   ],
   "id": "2c4a25b581dde28b",
   "outputs": [],
   "execution_count": 1
  },
  {
   "metadata": {
    "ExecuteTime": {
     "end_time": "2025-10-05T20:08:16.366262Z",
     "start_time": "2025-10-05T20:08:15.502031Z"
    }
   },
   "cell_type": "code",
   "source": [
    "# preview hands dataframe\n",
    "hands_df = pd.read_pickle('../data/hands_long.pkl')\n",
    "hands_df.head()"
   ],
   "id": "6bb45e2ff1f479f1",
   "outputs": [
    {
     "data": {
      "text/plain": [
       "   hand_id  player_id                             flop      river       turn  \\\n",
       "0        0          0   [16795671, 33573149, 16783383]   67119647    1082379   \n",
       "1        1          0  [268454953, 1082379, 134253349]  268442665     139523   \n",
       "2        2          0       [67119647, 81922, 1065995]      73730   16812055   \n",
       "3        3          0    [268446761, 4204049, 4212241]  268454953    1065995   \n",
       "4        4          0      [268454953, 4212241, 73730]  134228773  268471337   \n",
       "\n",
       "                  hole_  flop_eval_  turn_eval_  river_eval_  showdown_order_  \n",
       "0    [533255, 67144223]        4310        4309         2734                2  \n",
       "1     [4212241, 164099]        6322        5750         2578                4  \n",
       "2  [268454953, 8394515]        6428        6388         5977                5  \n",
       "3    [8406803, 8398611]        3018        3018         2516                4  \n",
       "4    [16787479, 279045]        6588        3472         3346                8  "
      ],
      "text/html": [
       "<div>\n",
       "<style scoped>\n",
       "    .dataframe tbody tr th:only-of-type {\n",
       "        vertical-align: middle;\n",
       "    }\n",
       "\n",
       "    .dataframe tbody tr th {\n",
       "        vertical-align: top;\n",
       "    }\n",
       "\n",
       "    .dataframe thead th {\n",
       "        text-align: right;\n",
       "    }\n",
       "</style>\n",
       "<table border=\"1\" class=\"dataframe\">\n",
       "  <thead>\n",
       "    <tr style=\"text-align: right;\">\n",
       "      <th></th>\n",
       "      <th>hand_id</th>\n",
       "      <th>player_id</th>\n",
       "      <th>flop</th>\n",
       "      <th>river</th>\n",
       "      <th>turn</th>\n",
       "      <th>hole_</th>\n",
       "      <th>flop_eval_</th>\n",
       "      <th>turn_eval_</th>\n",
       "      <th>river_eval_</th>\n",
       "      <th>showdown_order_</th>\n",
       "    </tr>\n",
       "  </thead>\n",
       "  <tbody>\n",
       "    <tr>\n",
       "      <th>0</th>\n",
       "      <td>0</td>\n",
       "      <td>0</td>\n",
       "      <td>[16795671, 33573149, 16783383]</td>\n",
       "      <td>67119647</td>\n",
       "      <td>1082379</td>\n",
       "      <td>[533255, 67144223]</td>\n",
       "      <td>4310</td>\n",
       "      <td>4309</td>\n",
       "      <td>2734</td>\n",
       "      <td>2</td>\n",
       "    </tr>\n",
       "    <tr>\n",
       "      <th>1</th>\n",
       "      <td>1</td>\n",
       "      <td>0</td>\n",
       "      <td>[268454953, 1082379, 134253349]</td>\n",
       "      <td>268442665</td>\n",
       "      <td>139523</td>\n",
       "      <td>[4212241, 164099]</td>\n",
       "      <td>6322</td>\n",
       "      <td>5750</td>\n",
       "      <td>2578</td>\n",
       "      <td>4</td>\n",
       "    </tr>\n",
       "    <tr>\n",
       "      <th>2</th>\n",
       "      <td>2</td>\n",
       "      <td>0</td>\n",
       "      <td>[67119647, 81922, 1065995]</td>\n",
       "      <td>73730</td>\n",
       "      <td>16812055</td>\n",
       "      <td>[268454953, 8394515]</td>\n",
       "      <td>6428</td>\n",
       "      <td>6388</td>\n",
       "      <td>5977</td>\n",
       "      <td>5</td>\n",
       "    </tr>\n",
       "    <tr>\n",
       "      <th>3</th>\n",
       "      <td>3</td>\n",
       "      <td>0</td>\n",
       "      <td>[268446761, 4204049, 4212241]</td>\n",
       "      <td>268454953</td>\n",
       "      <td>1065995</td>\n",
       "      <td>[8406803, 8398611]</td>\n",
       "      <td>3018</td>\n",
       "      <td>3018</td>\n",
       "      <td>2516</td>\n",
       "      <td>4</td>\n",
       "    </tr>\n",
       "    <tr>\n",
       "      <th>4</th>\n",
       "      <td>4</td>\n",
       "      <td>0</td>\n",
       "      <td>[268454953, 4212241, 73730]</td>\n",
       "      <td>134228773</td>\n",
       "      <td>268471337</td>\n",
       "      <td>[16787479, 279045]</td>\n",
       "      <td>6588</td>\n",
       "      <td>3472</td>\n",
       "      <td>3346</td>\n",
       "      <td>8</td>\n",
       "    </tr>\n",
       "  </tbody>\n",
       "</table>\n",
       "</div>"
      ]
     },
     "execution_count": 2,
     "metadata": {},
     "output_type": "execute_result"
    }
   ],
   "execution_count": 2
  },
  {
   "metadata": {},
   "cell_type": "markdown",
   "source": "**Hand Frequency**: Each 7-card hand must be classified at showdown, and represents a categorical option given as an integer by the `deuces.evaluator` object. Then, the value counts of this series of integers can be used to measure the occurrences of each `hand_class` in the synthetic data. Normalizing such data converts discrete counts into a frequency for specific hands. The index of each row represents the unique integer representation of a hand, and this integer can be converted to the name of the hand as a string using the `deuces.evaluator` object, as well.",
   "id": "3e9f2d7a0e5baf62"
  },
  {
   "metadata": {
    "ExecuteTime": {
     "end_time": "2025-10-05T20:08:17.122749Z",
     "start_time": "2025-10-05T20:08:16.501410Z"
    }
   },
   "cell_type": "code",
   "source": [
    "\"\"\"\n",
    "Determine the frequency of each type of 7-card hand\n",
    "\"\"\"\n",
    "\n",
    "evaluator = Evaluator()\n",
    "\n",
    "hand_classes = hands_df['river_eval_'].apply(evaluator.get_rank_class)\n",
    "\n",
    "# frequency of each class, normalized\n",
    "hand_dist = pd.DataFrame()\n",
    "hand_dist['freq'] = hand_classes.value_counts(normalize=True).sort_index()\n",
    "hand_dist['class_name'] = hand_dist.index.map(evaluator.class_to_string)\n",
    "hand_dist['class_int'] = hand_dist.index\n",
    "hand_dist.reset_index(drop=True, inplace=True)\n",
    "hand_dist"
   ],
   "id": "6d3b3fb1538431f3",
   "outputs": [
    {
     "data": {
      "text/plain": [
       "       freq       class_name  class_int\n",
       "0  0.000302   Straight Flush          1\n",
       "1  0.001716   Four of a Kind          2\n",
       "2  0.026248       Full House          3\n",
       "3  0.030383            Flush          4\n",
       "4  0.046916         Straight          5\n",
       "5  0.048131  Three of a Kind          6\n",
       "6  0.234070         Two Pair          7\n",
       "7  0.438299             Pair          8\n",
       "8  0.173936        High Card          9"
      ],
      "text/html": [
       "<div>\n",
       "<style scoped>\n",
       "    .dataframe tbody tr th:only-of-type {\n",
       "        vertical-align: middle;\n",
       "    }\n",
       "\n",
       "    .dataframe tbody tr th {\n",
       "        vertical-align: top;\n",
       "    }\n",
       "\n",
       "    .dataframe thead th {\n",
       "        text-align: right;\n",
       "    }\n",
       "</style>\n",
       "<table border=\"1\" class=\"dataframe\">\n",
       "  <thead>\n",
       "    <tr style=\"text-align: right;\">\n",
       "      <th></th>\n",
       "      <th>freq</th>\n",
       "      <th>class_name</th>\n",
       "      <th>class_int</th>\n",
       "    </tr>\n",
       "  </thead>\n",
       "  <tbody>\n",
       "    <tr>\n",
       "      <th>0</th>\n",
       "      <td>0.000302</td>\n",
       "      <td>Straight Flush</td>\n",
       "      <td>1</td>\n",
       "    </tr>\n",
       "    <tr>\n",
       "      <th>1</th>\n",
       "      <td>0.001716</td>\n",
       "      <td>Four of a Kind</td>\n",
       "      <td>2</td>\n",
       "    </tr>\n",
       "    <tr>\n",
       "      <th>2</th>\n",
       "      <td>0.026248</td>\n",
       "      <td>Full House</td>\n",
       "      <td>3</td>\n",
       "    </tr>\n",
       "    <tr>\n",
       "      <th>3</th>\n",
       "      <td>0.030383</td>\n",
       "      <td>Flush</td>\n",
       "      <td>4</td>\n",
       "    </tr>\n",
       "    <tr>\n",
       "      <th>4</th>\n",
       "      <td>0.046916</td>\n",
       "      <td>Straight</td>\n",
       "      <td>5</td>\n",
       "    </tr>\n",
       "    <tr>\n",
       "      <th>5</th>\n",
       "      <td>0.048131</td>\n",
       "      <td>Three of a Kind</td>\n",
       "      <td>6</td>\n",
       "    </tr>\n",
       "    <tr>\n",
       "      <th>6</th>\n",
       "      <td>0.234070</td>\n",
       "      <td>Two Pair</td>\n",
       "      <td>7</td>\n",
       "    </tr>\n",
       "    <tr>\n",
       "      <th>7</th>\n",
       "      <td>0.438299</td>\n",
       "      <td>Pair</td>\n",
       "      <td>8</td>\n",
       "    </tr>\n",
       "    <tr>\n",
       "      <th>8</th>\n",
       "      <td>0.173936</td>\n",
       "      <td>High Card</td>\n",
       "      <td>9</td>\n",
       "    </tr>\n",
       "  </tbody>\n",
       "</table>\n",
       "</div>"
      ]
     },
     "execution_count": 3,
     "metadata": {},
     "output_type": "execute_result"
    }
   ],
   "execution_count": 3
  },
  {
   "metadata": {
    "ExecuteTime": {
     "end_time": "2025-10-05T19:24:12.245132Z",
     "start_time": "2025-10-05T19:24:12.242602Z"
    }
   },
   "cell_type": "markdown",
   "source": [
    "**Comparing to Known Likelihoods**: To get a sense for the accuracy of the `hands_long` dataframe, the simulated frequencies of each hand must be compared to its theoretical likelihood. Known likelihoods are provided from [Wikipedia](https://en.wikipedia.org/wiki/Poker_probability), and serve as another column to the `hand_dist` dataframe. More columns for absolute and squared error are computed to approximate simulation accuracy.\n",
    "$$\n",
    "|\\text{error} | = | \\text{frequency} - \\text{likelihood} |\n",
    "$$$$\n",
    "\\text{error}^2 = ( \\text{frequency} - \\text{likelihood} )^2\n",
    "$$"
   ],
   "id": "e09568f903a89d9a"
  },
  {
   "metadata": {
    "ExecuteTime": {
     "end_time": "2025-10-05T20:06:25.876003Z",
     "start_time": "2025-10-05T20:06:25.871697Z"
    }
   },
   "cell_type": "code",
   "source": [
    "\"\"\"\n",
    "Compute error of hand distribution by comparing frequency of hands to their known likelihoods.\n",
    "\"\"\"\n",
    "hand_dist['likelihood'] = pd.Series([\n",
    "    0.000032 + 0.000279, # Royal Flush + other Straight Flushes\n",
    "    0.00168, # Four of a kind\n",
    "    0.0260,\n",
    "    0.0303,\n",
    "    0.0462,\n",
    "    0.0483,\n",
    "    0.235,\n",
    "    0.438,\n",
    "    0.174\n",
    "])\n",
    "hand_dist['error_abs'] = np.abs(hand_dist['freq'] - hand_dist['likelihood'])\n",
    "hand_dist['error_sqr'] = np.square(hand_dist['freq'] - hand_dist['likelihood'])"
   ],
   "id": "2ce95314bbaa6890",
   "outputs": [],
   "execution_count": 4
  },
  {
   "metadata": {
    "ExecuteTime": {
     "end_time": "2025-10-05T20:06:25.932658Z",
     "start_time": "2025-10-05T20:06:25.929560Z"
    }
   },
   "cell_type": "code",
   "source": [
    "\"\"\"\n",
    "Aproximate the accuracy of simulated data by calculating the RMSE\n",
    "\"\"\"\n",
    "mse = hand_dist['error_sqr'].mean()\n",
    "print(f'RMSE: {mse**0.5}')"
   ],
   "id": "facc985f12767c0b",
   "outputs": [
    {
     "name": "stdout",
     "output_type": "stream",
     "text": [
      "RMSE: 0.00041748058939788333\n"
     ]
    }
   ],
   "execution_count": 5
  },
  {
   "metadata": {},
   "cell_type": "markdown",
   "source": "**Hand Frequency Visualization**: The `hand_dist` dataset can be visualized with a bar graph, whose y-axis represents hand frequency and x-axis unique hands.",
   "id": "75a244d92cb9bb98"
  },
  {
   "metadata": {
    "ExecuteTime": {
     "end_time": "2025-10-05T20:07:30.092657Z",
     "start_time": "2025-10-05T20:07:30.064821Z"
    }
   },
   "cell_type": "code",
   "source": [
    "import altair as alt\n",
    "\n",
    "bars = alt.Chart(hand_dist).mark_bar().encode(\n",
    "    x=alt.X('class_name:N',\n",
    "            sort=alt.EncodingSortField(\n",
    "                field='class_int',\n",
    "                order='descending'\n",
    "            ),\n",
    "            axis=alt.Axis(labelAngle=0),  # rotate x-axis labels\n",
    "            title=None\n",
    "           ),\n",
    "    y=alt.Y('freq:Q', axis=None),       # remove y-axis\n",
    "    color=alt.Color('class_name:N', legend=None),  # remove legend\n",
    "    tooltip=[\n",
    "        alt.Tooltip('likelihood:Q', format=\".1%\", title='Likelihood')\n",
    "    ]\n",
    ")\n",
    "\n",
    "# Add labels above bars\n",
    "text = bars.mark_text(\n",
    "    dy=-5,\n",
    "    fontSize=12,\n",
    "    color='black'\n",
    ").encode(\n",
    "    text=alt.Text('freq:Q', format=\".2%\")\n",
    ")\n",
    "\n",
    "# Combine bars and text, add title\n",
    "chart = (bars + text).properties(\n",
    "    width=800,\n",
    "    height=300,\n",
    "    title=alt.TitleParams(\n",
    "        \"Hand Frequency Distribution\",\n",
    "        fontSize=16,\n",
    "        anchor='middle',   # center title\n",
    "        color='black'\n",
    "    )\n",
    ")\n",
    "\n",
    "chart\n"
   ],
   "id": "aef50174f917b112",
   "outputs": [
    {
     "data": {
      "text/html": [
       "\n",
       "<style>\n",
       "  #altair-viz-a1fbd53eb257469fbd3ef9eb6559320a.vega-embed {\n",
       "    width: 100%;\n",
       "    display: flex;\n",
       "  }\n",
       "\n",
       "  #altair-viz-a1fbd53eb257469fbd3ef9eb6559320a.vega-embed details,\n",
       "  #altair-viz-a1fbd53eb257469fbd3ef9eb6559320a.vega-embed details summary {\n",
       "    position: relative;\n",
       "  }\n",
       "</style>\n",
       "<div id=\"altair-viz-a1fbd53eb257469fbd3ef9eb6559320a\"></div>\n",
       "<script type=\"text/javascript\">\n",
       "  var VEGA_DEBUG = (typeof VEGA_DEBUG == \"undefined\") ? {} : VEGA_DEBUG;\n",
       "  (function(spec, embedOpt){\n",
       "    let outputDiv = document.currentScript.previousElementSibling;\n",
       "    if (outputDiv.id !== \"altair-viz-a1fbd53eb257469fbd3ef9eb6559320a\") {\n",
       "      outputDiv = document.getElementById(\"altair-viz-a1fbd53eb257469fbd3ef9eb6559320a\");\n",
       "    }\n",
       "\n",
       "    const paths = {\n",
       "      \"vega\": \"https://cdn.jsdelivr.net/npm/vega@5?noext\",\n",
       "      \"vega-lib\": \"https://cdn.jsdelivr.net/npm/vega-lib?noext\",\n",
       "      \"vega-lite\": \"https://cdn.jsdelivr.net/npm/vega-lite@5.20.1?noext\",\n",
       "      \"vega-embed\": \"https://cdn.jsdelivr.net/npm/vega-embed@6?noext\",\n",
       "    };\n",
       "\n",
       "    function maybeLoadScript(lib, version) {\n",
       "      var key = `${lib.replace(\"-\", \"\")}_version`;\n",
       "      return (VEGA_DEBUG[key] == version) ?\n",
       "        Promise.resolve(paths[lib]) :\n",
       "        new Promise(function(resolve, reject) {\n",
       "          var s = document.createElement('script');\n",
       "          document.getElementsByTagName(\"head\")[0].appendChild(s);\n",
       "          s.async = true;\n",
       "          s.onload = () => {\n",
       "            VEGA_DEBUG[key] = version;\n",
       "            return resolve(paths[lib]);\n",
       "          };\n",
       "          s.onerror = () => reject(`Error loading script: ${paths[lib]}`);\n",
       "          s.src = paths[lib];\n",
       "        });\n",
       "    }\n",
       "\n",
       "    function showError(err) {\n",
       "      outputDiv.innerHTML = `<div class=\"error\" style=\"color:red;\">${err}</div>`;\n",
       "      throw err;\n",
       "    }\n",
       "\n",
       "    function displayChart(vegaEmbed) {\n",
       "      vegaEmbed(outputDiv, spec, embedOpt)\n",
       "        .catch(err => showError(`Javascript Error: ${err.message}<br>This usually means there's a typo in your chart specification. See the javascript console for the full traceback.`));\n",
       "    }\n",
       "\n",
       "    if(typeof define === \"function\" && define.amd) {\n",
       "      requirejs.config({paths});\n",
       "      let deps = [\"vega-embed\"];\n",
       "      require(deps, displayChart, err => showError(`Error loading script: ${err.message}`));\n",
       "    } else {\n",
       "      maybeLoadScript(\"vega\", \"5\")\n",
       "        .then(() => maybeLoadScript(\"vega-lite\", \"5.20.1\"))\n",
       "        .then(() => maybeLoadScript(\"vega-embed\", \"6\"))\n",
       "        .catch(showError)\n",
       "        .then(() => displayChart(vegaEmbed));\n",
       "    }\n",
       "  })({\"config\": {\"view\": {\"continuousWidth\": 300, \"continuousHeight\": 300}}, \"layer\": [{\"mark\": {\"type\": \"bar\"}, \"encoding\": {\"color\": {\"field\": \"class_name\", \"legend\": null, \"type\": \"nominal\"}, \"tooltip\": [{\"field\": \"likelihood\", \"format\": \".1%\", \"title\": \"Likelihood\", \"type\": \"quantitative\"}], \"x\": {\"axis\": {\"labelAngle\": 0}, \"field\": \"class_name\", \"sort\": {\"field\": \"class_int\", \"order\": \"descending\"}, \"title\": null, \"type\": \"nominal\"}, \"y\": {\"axis\": null, \"field\": \"freq\", \"type\": \"quantitative\"}}}, {\"mark\": {\"type\": \"text\", \"color\": \"black\", \"dy\": -5, \"fontSize\": 12}, \"encoding\": {\"color\": {\"field\": \"class_name\", \"legend\": null, \"type\": \"nominal\"}, \"text\": {\"field\": \"freq\", \"format\": \".2%\", \"type\": \"quantitative\"}, \"tooltip\": [{\"field\": \"likelihood\", \"format\": \".1%\", \"title\": \"Likelihood\", \"type\": \"quantitative\"}], \"x\": {\"axis\": {\"labelAngle\": 0}, \"field\": \"class_name\", \"sort\": {\"field\": \"class_int\", \"order\": \"descending\"}, \"title\": null, \"type\": \"nominal\"}, \"y\": {\"axis\": null, \"field\": \"freq\", \"type\": \"quantitative\"}}}], \"data\": {\"name\": \"data-d9c62b137538f61d10647269f6b7943f\"}, \"height\": 300, \"title\": {\"text\": \"Hand Frequency Distribution\", \"anchor\": \"middle\", \"color\": \"black\", \"fontSize\": 16}, \"width\": 800, \"$schema\": \"https://vega.github.io/schema/vega-lite/v5.20.1.json\", \"datasets\": {\"data-d9c62b137538f61d10647269f6b7943f\": [{\"freq\": 0.0003022222222222222, \"class_name\": \"Straight Flush\", \"class_int\": 1, \"likelihood\": 0.000311, \"error_abs\": 8.777777777777798e-06, \"error_sqr\": 7.704938271604975e-11}, {\"freq\": 0.0017155555555555555, \"class_name\": \"Four of a Kind\", \"class_int\": 2, \"likelihood\": 0.00168, \"error_abs\": 3.5555555555555384e-05, \"error_sqr\": 1.2641975308641854e-09}, {\"freq\": 0.026247777777777776, \"class_name\": \"Full House\", \"class_int\": 3, \"likelihood\": 0.026, \"error_abs\": 0.0002477777777777773, \"error_sqr\": 6.13938271604936e-08}, {\"freq\": 0.03038333333333333, \"class_name\": \"Flush\", \"class_int\": 4, \"likelihood\": 0.0303, \"error_abs\": 8.33333333333311e-05, \"error_sqr\": 6.944444444444071e-09}, {\"freq\": 0.04691555555555556, \"class_name\": \"Straight\", \"class_int\": 5, \"likelihood\": 0.0462, \"error_abs\": 0.0007155555555555596, \"error_sqr\": 5.120197530864254e-07}, {\"freq\": 0.04813111111111111, \"class_name\": \"Three of a Kind\", \"class_int\": 6, \"likelihood\": 0.0483, \"error_abs\": 0.00016888888888889203, \"error_sqr\": 2.852345679012452e-08}, {\"freq\": 0.23407, \"class_name\": \"Two Pair\", \"class_int\": 7, \"likelihood\": 0.235, \"error_abs\": 0.0009299999999999864, \"error_sqr\": 8.648999999999747e-07}, {\"freq\": 0.4382988888888889, \"class_name\": \"Pair\", \"class_int\": 8, \"likelihood\": 0.438, \"error_abs\": 0.0002988888888889041, \"error_sqr\": 8.933456790124365e-08}, {\"freq\": 0.17393555555555557, \"class_name\": \"High Card\", \"class_int\": 9, \"likelihood\": 0.174, \"error_abs\": 6.444444444442254e-05, \"error_sqr\": 4.153086419750263e-09}]}}, {\"mode\": \"vega-lite\"});\n",
       "</script>"
      ],
      "text/plain": [
       "alt.LayerChart(...)"
      ]
     },
     "execution_count": 8,
     "metadata": {},
     "output_type": "execute_result"
    }
   ],
   "execution_count": 8
  },
  {
   "metadata": {
    "ExecuteTime": {
     "end_time": "2025-10-05T20:06:25.997058Z",
     "start_time": "2025-10-05T20:06:25.994710Z"
    }
   },
   "cell_type": "code",
   "source": "",
   "id": "e1aa428cf0a76fd3",
   "outputs": [],
   "execution_count": null
  },
  {
   "metadata": {
    "ExecuteTime": {
     "end_time": "2025-10-05T20:06:26.014103Z",
     "start_time": "2025-10-05T20:06:26.009781Z"
    }
   },
   "cell_type": "code",
   "source": "hand_dist.to_csv('../data/hand_dist.csv', index=False)",
   "id": "a0fd996433a83c6c",
   "outputs": [],
   "execution_count": 7
  },
  {
   "metadata": {
    "ExecuteTime": {
     "end_time": "2025-10-05T20:06:26.018955Z",
     "start_time": "2025-10-05T20:06:26.017556Z"
    }
   },
   "cell_type": "code",
   "source": "",
   "id": "41b104d0a779b243",
   "outputs": [],
   "execution_count": null
  }
 ],
 "metadata": {
  "kernelspec": {
   "display_name": "Python 3",
   "language": "python",
   "name": "python3"
  },
  "language_info": {
   "codemirror_mode": {
    "name": "ipython",
    "version": 2
   },
   "file_extension": ".py",
   "mimetype": "text/x-python",
   "name": "python",
   "nbconvert_exporter": "python",
   "pygments_lexer": "ipython2",
   "version": "2.7.6"
  }
 },
 "nbformat": 4,
 "nbformat_minor": 5
}
