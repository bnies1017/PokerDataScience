{
 "cells": [
  {
   "metadata": {
    "collapsed": true
   },
   "cell_type": "markdown",
   "source": [
    "## Section 02: Hand Frequency Distribution ##\n",
    "**Abstract**: In this notebook, we validate the frequencies of certain poker hands generated previously in [Section 01](./01_hand_simulation.ipynb). This involves verifying that each distinct seven card hand appears with a frequency that approximates its known likelihood. Subsequently, the RMSE between frequencies and likelihoods can be used as an approximation for accuracy, and a dataframe representing the hand frequencies can be saved locally."
   ],
   "id": "b81242ee5691f217"
  },
  {
   "metadata": {
    "ExecuteTime": {
     "end_time": "2025-10-05T20:59:00.012696Z",
     "start_time": "2025-10-05T20:59:00.008105Z"
    }
   },
   "cell_type": "code",
   "source": [
    "# Imports\n",
    "import numpy as np\n",
    "import pandas as pd\n",
    "from deuces import Evaluator\n",
    "import altair as alt"
   ],
   "id": "2c4a25b581dde28b",
   "outputs": [],
   "execution_count": 12
  },
  {
   "metadata": {
    "ExecuteTime": {
     "end_time": "2025-10-05T20:59:00.742022Z",
     "start_time": "2025-10-05T20:59:00.021356Z"
    }
   },
   "cell_type": "code",
   "source": [
    "# preview hands dataframe\n",
    "hands_df = pd.read_pickle('../data/hands_long.pkl')\n",
    "hands_df.head()"
   ],
   "id": "6bb45e2ff1f479f1",
   "outputs": [
    {
     "data": {
      "text/plain": [
       "   hand_id  player_id                             flop      river       turn  \\\n",
       "0        0          0   [16795671, 33573149, 16783383]   67119647    1082379   \n",
       "1        1          0  [268454953, 1082379, 134253349]  268442665     139523   \n",
       "2        2          0       [67119647, 81922, 1065995]      73730   16812055   \n",
       "3        3          0    [268446761, 4204049, 4212241]  268454953    1065995   \n",
       "4        4          0      [268454953, 4212241, 73730]  134228773  268471337   \n",
       "\n",
       "                  hole_  flop_eval_  turn_eval_  river_eval_  showdown_order_  \\\n",
       "0    [533255, 67144223]        4310        4309         2734                2   \n",
       "1     [4212241, 164099]        6322        5750         2578                4   \n",
       "2  [268454953, 8394515]        6428        6388         5977                5   \n",
       "3    [8406803, 8398611]        3018        3018         2516                4   \n",
       "4    [16787479, 279045]        6588        3472         3346                8   \n",
       "\n",
       "   hand_class_  \n",
       "0            7  \n",
       "1            7  \n",
       "2            8  \n",
       "3            7  \n",
       "4            8  "
      ],
      "text/html": [
       "<div>\n",
       "<style scoped>\n",
       "    .dataframe tbody tr th:only-of-type {\n",
       "        vertical-align: middle;\n",
       "    }\n",
       "\n",
       "    .dataframe tbody tr th {\n",
       "        vertical-align: top;\n",
       "    }\n",
       "\n",
       "    .dataframe thead th {\n",
       "        text-align: right;\n",
       "    }\n",
       "</style>\n",
       "<table border=\"1\" class=\"dataframe\">\n",
       "  <thead>\n",
       "    <tr style=\"text-align: right;\">\n",
       "      <th></th>\n",
       "      <th>hand_id</th>\n",
       "      <th>player_id</th>\n",
       "      <th>flop</th>\n",
       "      <th>river</th>\n",
       "      <th>turn</th>\n",
       "      <th>hole_</th>\n",
       "      <th>flop_eval_</th>\n",
       "      <th>turn_eval_</th>\n",
       "      <th>river_eval_</th>\n",
       "      <th>showdown_order_</th>\n",
       "      <th>hand_class_</th>\n",
       "    </tr>\n",
       "  </thead>\n",
       "  <tbody>\n",
       "    <tr>\n",
       "      <th>0</th>\n",
       "      <td>0</td>\n",
       "      <td>0</td>\n",
       "      <td>[16795671, 33573149, 16783383]</td>\n",
       "      <td>67119647</td>\n",
       "      <td>1082379</td>\n",
       "      <td>[533255, 67144223]</td>\n",
       "      <td>4310</td>\n",
       "      <td>4309</td>\n",
       "      <td>2734</td>\n",
       "      <td>2</td>\n",
       "      <td>7</td>\n",
       "    </tr>\n",
       "    <tr>\n",
       "      <th>1</th>\n",
       "      <td>1</td>\n",
       "      <td>0</td>\n",
       "      <td>[268454953, 1082379, 134253349]</td>\n",
       "      <td>268442665</td>\n",
       "      <td>139523</td>\n",
       "      <td>[4212241, 164099]</td>\n",
       "      <td>6322</td>\n",
       "      <td>5750</td>\n",
       "      <td>2578</td>\n",
       "      <td>4</td>\n",
       "      <td>7</td>\n",
       "    </tr>\n",
       "    <tr>\n",
       "      <th>2</th>\n",
       "      <td>2</td>\n",
       "      <td>0</td>\n",
       "      <td>[67119647, 81922, 1065995]</td>\n",
       "      <td>73730</td>\n",
       "      <td>16812055</td>\n",
       "      <td>[268454953, 8394515]</td>\n",
       "      <td>6428</td>\n",
       "      <td>6388</td>\n",
       "      <td>5977</td>\n",
       "      <td>5</td>\n",
       "      <td>8</td>\n",
       "    </tr>\n",
       "    <tr>\n",
       "      <th>3</th>\n",
       "      <td>3</td>\n",
       "      <td>0</td>\n",
       "      <td>[268446761, 4204049, 4212241]</td>\n",
       "      <td>268454953</td>\n",
       "      <td>1065995</td>\n",
       "      <td>[8406803, 8398611]</td>\n",
       "      <td>3018</td>\n",
       "      <td>3018</td>\n",
       "      <td>2516</td>\n",
       "      <td>4</td>\n",
       "      <td>7</td>\n",
       "    </tr>\n",
       "    <tr>\n",
       "      <th>4</th>\n",
       "      <td>4</td>\n",
       "      <td>0</td>\n",
       "      <td>[268454953, 4212241, 73730]</td>\n",
       "      <td>134228773</td>\n",
       "      <td>268471337</td>\n",
       "      <td>[16787479, 279045]</td>\n",
       "      <td>6588</td>\n",
       "      <td>3472</td>\n",
       "      <td>3346</td>\n",
       "      <td>8</td>\n",
       "      <td>8</td>\n",
       "    </tr>\n",
       "  </tbody>\n",
       "</table>\n",
       "</div>"
      ]
     },
     "execution_count": 13,
     "metadata": {},
     "output_type": "execute_result"
    }
   ],
   "execution_count": 13
  },
  {
   "metadata": {},
   "cell_type": "markdown",
   "source": "**Hand Frequency**: Each 7-card hand must be classified at showdown, and represents a categorical option given as an integer by the `deuces.evaluator` object. Then, the value counts of this series of integers can be used to measure the occurrences of each `hand_class` in the synthetic data. Normalizing such data converts discrete counts into a frequency for specific hands. The index of each row represents the unique integer representation of a hand, and this integer can be converted to the name of the hand as a string using the `deuces.evaluator` object, as well.",
   "id": "3e9f2d7a0e5baf62"
  },
  {
   "metadata": {
    "ExecuteTime": {
     "end_time": "2025-10-05T20:59:34.840336Z",
     "start_time": "2025-10-05T20:59:34.818764Z"
    }
   },
   "cell_type": "code",
   "source": [
    "\"\"\"\n",
    "Determine the frequency of each type of 7-card hand\n",
    "\"\"\"\n",
    "\n",
    "evaluator = Evaluator()\n",
    "\n",
    "# frequency of each class, normalized\n",
    "hand_dist = pd.DataFrame()\n",
    "hand_dist['freq'] = hands_df['hand_class_'].value_counts(normalize=True).sort_index()\n",
    "hand_dist['class_name'] = hand_dist.index.map(evaluator.class_to_string)\n",
    "hand_dist['class_int'] = hand_dist.index\n",
    "hand_dist.reset_index(drop=True, inplace=True)\n",
    "hand_dist"
   ],
   "id": "6d3b3fb1538431f3",
   "outputs": [
    {
     "data": {
      "text/plain": [
       "       freq       class_name  class_int\n",
       "0  0.000302   Straight Flush          1\n",
       "1  0.001716   Four of a Kind          2\n",
       "2  0.026248       Full House          3\n",
       "3  0.030383            Flush          4\n",
       "4  0.046916         Straight          5\n",
       "5  0.048131  Three of a Kind          6\n",
       "6  0.234070         Two Pair          7\n",
       "7  0.438299             Pair          8\n",
       "8  0.173936        High Card          9"
      ],
      "text/html": [
       "<div>\n",
       "<style scoped>\n",
       "    .dataframe tbody tr th:only-of-type {\n",
       "        vertical-align: middle;\n",
       "    }\n",
       "\n",
       "    .dataframe tbody tr th {\n",
       "        vertical-align: top;\n",
       "    }\n",
       "\n",
       "    .dataframe thead th {\n",
       "        text-align: right;\n",
       "    }\n",
       "</style>\n",
       "<table border=\"1\" class=\"dataframe\">\n",
       "  <thead>\n",
       "    <tr style=\"text-align: right;\">\n",
       "      <th></th>\n",
       "      <th>freq</th>\n",
       "      <th>class_name</th>\n",
       "      <th>class_int</th>\n",
       "    </tr>\n",
       "  </thead>\n",
       "  <tbody>\n",
       "    <tr>\n",
       "      <th>0</th>\n",
       "      <td>0.000302</td>\n",
       "      <td>Straight Flush</td>\n",
       "      <td>1</td>\n",
       "    </tr>\n",
       "    <tr>\n",
       "      <th>1</th>\n",
       "      <td>0.001716</td>\n",
       "      <td>Four of a Kind</td>\n",
       "      <td>2</td>\n",
       "    </tr>\n",
       "    <tr>\n",
       "      <th>2</th>\n",
       "      <td>0.026248</td>\n",
       "      <td>Full House</td>\n",
       "      <td>3</td>\n",
       "    </tr>\n",
       "    <tr>\n",
       "      <th>3</th>\n",
       "      <td>0.030383</td>\n",
       "      <td>Flush</td>\n",
       "      <td>4</td>\n",
       "    </tr>\n",
       "    <tr>\n",
       "      <th>4</th>\n",
       "      <td>0.046916</td>\n",
       "      <td>Straight</td>\n",
       "      <td>5</td>\n",
       "    </tr>\n",
       "    <tr>\n",
       "      <th>5</th>\n",
       "      <td>0.048131</td>\n",
       "      <td>Three of a Kind</td>\n",
       "      <td>6</td>\n",
       "    </tr>\n",
       "    <tr>\n",
       "      <th>6</th>\n",
       "      <td>0.234070</td>\n",
       "      <td>Two Pair</td>\n",
       "      <td>7</td>\n",
       "    </tr>\n",
       "    <tr>\n",
       "      <th>7</th>\n",
       "      <td>0.438299</td>\n",
       "      <td>Pair</td>\n",
       "      <td>8</td>\n",
       "    </tr>\n",
       "    <tr>\n",
       "      <th>8</th>\n",
       "      <td>0.173936</td>\n",
       "      <td>High Card</td>\n",
       "      <td>9</td>\n",
       "    </tr>\n",
       "  </tbody>\n",
       "</table>\n",
       "</div>"
      ]
     },
     "execution_count": 15,
     "metadata": {},
     "output_type": "execute_result"
    }
   ],
   "execution_count": 15
  },
  {
   "metadata": {
    "ExecuteTime": {
     "end_time": "2025-10-05T19:24:12.245132Z",
     "start_time": "2025-10-05T19:24:12.242602Z"
    }
   },
   "cell_type": "markdown",
   "source": [
    "**Comparing to Known Likelihoods**: To get a sense for the accuracy of the `hands_long` dataframe, the simulated frequencies of each hand must be compared to its theoretical likelihood. Known likelihoods are provided from [Wikipedia](https://en.wikipedia.org/wiki/Poker_probability), and serve as another column to the `hand_dist` dataframe. More columns for absolute and squared error are computed to approximate simulation accuracy.\n",
    "$$\n",
    "|\\text{error} | = | \\text{frequency} - \\text{likelihood} |\n",
    "$$$$\n",
    "\\text{error}^2 = ( \\text{frequency} - \\text{likelihood} )^2\n",
    "$$"
   ],
   "id": "e09568f903a89d9a"
  },
  {
   "metadata": {
    "ExecuteTime": {
     "end_time": "2025-10-05T20:59:01.743667Z",
     "start_time": "2025-10-05T20:08:17.272301Z"
    }
   },
   "cell_type": "code",
   "source": [
    "\"\"\"\n",
    "Compute error of hand distribution by comparing frequency of hands to their known likelihoods.\n",
    "\"\"\"\n",
    "hand_dist['likelihood'] = pd.Series([\n",
    "    0.000032 + 0.000279, # Royal Flush + other Straight Flushes\n",
    "    0.00168, # Four of a kind\n",
    "    0.0260,\n",
    "    0.0303,\n",
    "    0.0462,\n",
    "    0.0483,\n",
    "    0.235,\n",
    "    0.438,\n",
    "    0.174\n",
    "])\n",
    "hand_dist['error_abs'] = np.abs(hand_dist['freq'] - hand_dist['likelihood'])\n",
    "hand_dist['error_sqr'] = np.square(hand_dist['freq'] - hand_dist['likelihood'])"
   ],
   "id": "2ce95314bbaa6890",
   "outputs": [],
   "execution_count": 4
  },
  {
   "metadata": {
    "ExecuteTime": {
     "end_time": "2025-10-05T20:59:01.744118Z",
     "start_time": "2025-10-05T20:08:17.364268Z"
    }
   },
   "cell_type": "code",
   "source": [
    "\"\"\"\n",
    "Aproximate the accuracy of simulated data by calculating the RMSE\n",
    "\"\"\"\n",
    "mse = hand_dist['error_sqr'].mean()\n",
    "print(f'RMSE: {mse**0.5}')"
   ],
   "id": "facc985f12767c0b",
   "outputs": [
    {
     "name": "stdout",
     "output_type": "stream",
     "text": [
      "RMSE: 0.00041748058939788333\n"
     ]
    }
   ],
   "execution_count": 5
  },
  {
   "metadata": {},
   "cell_type": "markdown",
   "source": "**Conclusion**: This notebook successfully measures the frequencies for each 7-card hand. In comparison to known likelihoods, the simulation had an $\\text{RMSE} \\approx 4.175 \\times 10^{-4}$, which would suggest a high simulation accuracy. This is a good sanity check before estimating equity.",
   "id": "e6d320997181c0bf"
  }
 ],
 "metadata": {
  "kernelspec": {
   "display_name": "Python 3",
   "language": "python",
   "name": "python3"
  },
  "language_info": {
   "codemirror_mode": {
    "name": "ipython",
    "version": 2
   },
   "file_extension": ".py",
   "mimetype": "text/x-python",
   "name": "python",
   "nbconvert_exporter": "python",
   "pygments_lexer": "ipython2",
   "version": "2.7.6"
  }
 },
 "nbformat": 4,
 "nbformat_minor": 5
}
