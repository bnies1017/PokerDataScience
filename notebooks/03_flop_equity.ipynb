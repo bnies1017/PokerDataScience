{
 "cells": [
  {
   "metadata": {},
   "cell_type": "markdown",
   "source": [
    "## Section 03: Flop Equity Calculation\n",
    "**Abstract**: In this notebook, we calculate the flop equity for each player's hand based on various engineered features derived from the hole cards and flop cards. This involves grouping hands by these features and estimating the equity for each group, similar to the approach used for pre-flop equity calculations."
   ],
   "id": "40273212987baf6e"
  },
  {
   "metadata": {
    "ExecuteTime": {
     "end_time": "2025-09-15T01:18:59.055941Z",
     "start_time": "2025-09-15T01:18:59.053531Z"
    }
   },
   "cell_type": "code",
   "source": [
    "# Imports\n",
    "import pandas as pd\n",
    "from deuces import Evaluator"
   ],
   "id": "31b11cc19e12ac82",
   "outputs": [],
   "execution_count": 2
  },
  {
   "metadata": {
    "collapsed": true,
    "ExecuteTime": {
     "end_time": "2025-09-12T19:41:20.873789Z",
     "start_time": "2025-09-12T19:41:20.872133Z"
    }
   },
   "cell_type": "markdown",
   "source": [
    "**Flop Equity Features**: We estimate flop equity by grouping hands based on other features that can be engineered from the hole cards and flop cards. These features include:\n",
    "- Hand Classification: Pair, High Card, etc.\n",
    "- Pocket Pair: Boolean indicating if the hole cards are a pocket pair.\n",
    "- Suited: Boolean indicating if the hole cards are suited.\n",
    "- Flush Potential: Complete, Open, Backdoor, or None.\n",
    "- Straight Potential: Complete, Open, Gut-shot, Backdoor, or None.\n",
    "- Overcards: Number of hole cards that are higher than the highest card on the flop.\n",
    "- Board Texture: Number of unique suits on the board.\n",
    "- Board Connectivity: Number of cards required to complete a straight on the board.\n",
    "\n",
    "Functions to compute these features are defined in the `src.helpers` module."
   ],
   "id": "de790b5df78b0955"
  },
  {
   "metadata": {
    "ExecuteTime": {
     "end_time": "2025-09-15T01:18:59.377009Z",
     "start_time": "2025-09-15T01:18:59.063459Z"
    }
   },
   "cell_type": "code",
   "source": [
    "# load long-form dataframe\n",
    "hands_long = pd.read_pickle('../data/hands_long.pkl')\n",
    "# remove all unnecessary columns, we are only interested in the player's hole cards, flop cards, flop evaluation, and showdown order\n",
    "flop_hands = hands_long[[\n",
    "    'hole_', 'flop', 'flop_eval_', 'showdown_order_'\n",
    "]].copy()\n",
    "# preview data\n",
    "flop_hands.head()"
   ],
   "id": "d630429844cd22d6",
   "outputs": [
    {
     "data": {
      "text/plain": [
       "                  hole_                             flop  flop_eval_  \\\n",
       "0    [533255, 67144223]   [16795671, 33573149, 16783383]        4310   \n",
       "1     [4212241, 164099]  [268454953, 1082379, 134253349]        6322   \n",
       "2  [268454953, 8394515]       [67119647, 81922, 1065995]        6428   \n",
       "3    [8406803, 8398611]    [268446761, 4204049, 4212241]        3018   \n",
       "4    [16787479, 279045]      [268454953, 4212241, 73730]        6588   \n",
       "\n",
       "   showdown_order_  \n",
       "0                2  \n",
       "1                4  \n",
       "2                5  \n",
       "3                4  \n",
       "4                8  "
      ],
      "text/html": [
       "<div>\n",
       "<style scoped>\n",
       "    .dataframe tbody tr th:only-of-type {\n",
       "        vertical-align: middle;\n",
       "    }\n",
       "\n",
       "    .dataframe tbody tr th {\n",
       "        vertical-align: top;\n",
       "    }\n",
       "\n",
       "    .dataframe thead th {\n",
       "        text-align: right;\n",
       "    }\n",
       "</style>\n",
       "<table border=\"1\" class=\"dataframe\">\n",
       "  <thead>\n",
       "    <tr style=\"text-align: right;\">\n",
       "      <th></th>\n",
       "      <th>hole_</th>\n",
       "      <th>flop</th>\n",
       "      <th>flop_eval_</th>\n",
       "      <th>showdown_order_</th>\n",
       "    </tr>\n",
       "  </thead>\n",
       "  <tbody>\n",
       "    <tr>\n",
       "      <th>0</th>\n",
       "      <td>[533255, 67144223]</td>\n",
       "      <td>[16795671, 33573149, 16783383]</td>\n",
       "      <td>4310</td>\n",
       "      <td>2</td>\n",
       "    </tr>\n",
       "    <tr>\n",
       "      <th>1</th>\n",
       "      <td>[4212241, 164099]</td>\n",
       "      <td>[268454953, 1082379, 134253349]</td>\n",
       "      <td>6322</td>\n",
       "      <td>4</td>\n",
       "    </tr>\n",
       "    <tr>\n",
       "      <th>2</th>\n",
       "      <td>[268454953, 8394515]</td>\n",
       "      <td>[67119647, 81922, 1065995]</td>\n",
       "      <td>6428</td>\n",
       "      <td>5</td>\n",
       "    </tr>\n",
       "    <tr>\n",
       "      <th>3</th>\n",
       "      <td>[8406803, 8398611]</td>\n",
       "      <td>[268446761, 4204049, 4212241]</td>\n",
       "      <td>3018</td>\n",
       "      <td>4</td>\n",
       "    </tr>\n",
       "    <tr>\n",
       "      <th>4</th>\n",
       "      <td>[16787479, 279045]</td>\n",
       "      <td>[268454953, 4212241, 73730]</td>\n",
       "      <td>6588</td>\n",
       "      <td>8</td>\n",
       "    </tr>\n",
       "  </tbody>\n",
       "</table>\n",
       "</div>"
      ]
     },
     "execution_count": 3,
     "metadata": {},
     "output_type": "execute_result"
    }
   ],
   "execution_count": 3
  },
  {
   "metadata": {
    "jupyter": {
     "is_executing": true
    },
    "ExecuteTime": {
     "start_time": "2025-09-15T01:18:59.464801Z"
    }
   },
   "cell_type": "code",
   "source": [
    "from src.helpers import hand_classification, is_pocket_pair, is_suited, flush_potential, straight_potential, overcards, board_texture, board_connectivity\n",
    "\n",
    "# add engineered features for flop equity calculation\n",
    "flop_hands['hand_class'] = flop_hands['flop_eval_'].apply(\n",
    "    hand_classification\n",
    ")\n",
    "flop_hands['pocket_pair'] = flop_hands['hole_'].apply(is_pocket_pair)\n",
    "flop_hands['suited'] = flop_hands['hole_'].apply(is_suited)\n",
    "flop_hands['flush_potential'] = flop_hands.apply(\n",
    "    lambda row: flush_potential(row['hole_'], row['flop']),\n",
    "    axis=1\n",
    ")\n",
    "flop_hands['straight_potential'] = flop_hands.apply(\n",
    "    lambda row: straight_potential(row['hole_'], row['flop']),\n",
    "    axis=1\n",
    ")\n",
    "flop_hands['overcards'] = flop_hands.apply(\n",
    "    lambda row: overcards(row['hole_'], row['flop']),\n",
    "    axis=1\n",
    ")\n",
    "flop_hands['board_texture'] = flop_hands['flop'].apply(board_texture)\n",
    "flop_hands['board_connectivity'] = flop_hands['flop'].apply(board_connectivity)\n",
    "# drop unnecessary columns\n",
    "flop_hands = flop_hands.drop(columns=['hole_', 'flop', 'flop_eval_'])\n",
    "# preview data\n",
    "flop_hands.head()"
   ],
   "id": "decb03c1fdae6982",
   "outputs": [],
   "execution_count": null
  },
  {
   "metadata": {},
   "cell_type": "markdown",
   "source": "Now we need to account for different player counts, from 2 to 9 players. We can do this differently from the pre-flop equity calculation, since we don't need to merge on any features. We can simply replicate the dataframe for each player count and assign the player count to a new column.",
   "id": "4d69d85b94daa236"
  },
  {
   "metadata": {
    "ExecuteTime": {
     "end_time": "2025-09-15T01:18:51.171831Z",
     "start_time": "2025-09-14T04:44:06.875287Z"
    }
   },
   "cell_type": "code",
   "source": [
    "# multiply by number of players to account for different player counts\n",
    "flop_hands = pd.concat([flop_hands.assign(players=players) for players in range(2,10)], ignore_index=False)\n",
    "# we should have 900k * 8 = 7.2 million rows now\n",
    "flop_hands.info()"
   ],
   "id": "c7740d91e80919f",
   "outputs": [
    {
     "name": "stdout",
     "output_type": "stream",
     "text": [
      "<class 'pandas.core.frame.DataFrame'>\n",
      "Index: 7200000 entries, 0 to 899999\n",
      "Data columns (total 10 columns):\n",
      " #   Column              Dtype \n",
      "---  ------              ----- \n",
      " 0   showdown_order_     int64 \n",
      " 1   hand_class          int64 \n",
      " 2   pocket_pair         bool  \n",
      " 3   suited              bool  \n",
      " 4   flush_potential     object\n",
      " 5   straight_potential  object\n",
      " 6   overcards           int64 \n",
      " 7   board_texture       int64 \n",
      " 8   board_connectivity  object\n",
      " 9   players             int64 \n",
      "dtypes: bool(2), int64(5), object(3)\n",
      "memory usage: 508.1+ MB\n"
     ]
    }
   ],
   "execution_count": 4
  },
  {
   "metadata": {},
   "cell_type": "markdown",
   "source": "Just like in the pre-flop equity calculation, we need to compute the total number of hands to consider for each player count, as well as the number of times a hand would win at showdown given its showdown order and player count. We can use the same combinatorial methods defined in the `src.helpers` module.",
   "id": "b03b5f41b95206d9"
  },
  {
   "metadata": {
    "ExecuteTime": {
     "end_time": "2025-09-15T01:18:51.172387Z",
     "start_time": "2025-09-14T04:45:52.110882Z"
    }
   },
   "cell_type": "code",
   "source": [
    "from src.helpers import total_hands, wins\n",
    "\n",
    "flop_hands['total_hands'] = flop_hands['players'].apply(total_hands)\n",
    "\n",
    "flop_hands['wins'] = flop_hands[['showdown_order_','players']].apply(\n",
    "    lambda row: wins(row['showdown_order_'], row['players']),\n",
    "    axis=1\n",
    ")\n",
    "# preview data\n",
    "flop_hands.head()"
   ],
   "id": "9d091cb5fc0c1f56",
   "outputs": [
    {
     "data": {
      "text/plain": [
       "   showdown_order_  hand_class  pocket_pair  suited flush_potential  \\\n",
       "0                2           8        False   False            None   \n",
       "1                4           9        False   False        Backdoor   \n",
       "2                5           9        False   False        Backdoor   \n",
       "3                4           7         True   False        Backdoor   \n",
       "4                8           9        False   False        Backdoor   \n",
       "\n",
       "  straight_potential  overcards  board_texture board_connectivity  players  \\\n",
       "0           Gut-shot          0              2                Low        2   \n",
       "1           Backdoor          2              2                Low        2   \n",
       "2           Backdoor          0              2                Low        2   \n",
       "3           Backdoor          1              2                Low        2   \n",
       "4           Gut-shot          1              2                Low        2   \n",
       "\n",
       "   total_hands  wins  \n",
       "0            8     7  \n",
       "1            8     5  \n",
       "2            8     4  \n",
       "3            8     5  \n",
       "4            8     1  "
      ],
      "text/html": [
       "<div>\n",
       "<style scoped>\n",
       "    .dataframe tbody tr th:only-of-type {\n",
       "        vertical-align: middle;\n",
       "    }\n",
       "\n",
       "    .dataframe tbody tr th {\n",
       "        vertical-align: top;\n",
       "    }\n",
       "\n",
       "    .dataframe thead th {\n",
       "        text-align: right;\n",
       "    }\n",
       "</style>\n",
       "<table border=\"1\" class=\"dataframe\">\n",
       "  <thead>\n",
       "    <tr style=\"text-align: right;\">\n",
       "      <th></th>\n",
       "      <th>showdown_order_</th>\n",
       "      <th>hand_class</th>\n",
       "      <th>pocket_pair</th>\n",
       "      <th>suited</th>\n",
       "      <th>flush_potential</th>\n",
       "      <th>straight_potential</th>\n",
       "      <th>overcards</th>\n",
       "      <th>board_texture</th>\n",
       "      <th>board_connectivity</th>\n",
       "      <th>players</th>\n",
       "      <th>total_hands</th>\n",
       "      <th>wins</th>\n",
       "    </tr>\n",
       "  </thead>\n",
       "  <tbody>\n",
       "    <tr>\n",
       "      <th>0</th>\n",
       "      <td>2</td>\n",
       "      <td>8</td>\n",
       "      <td>False</td>\n",
       "      <td>False</td>\n",
       "      <td>None</td>\n",
       "      <td>Gut-shot</td>\n",
       "      <td>0</td>\n",
       "      <td>2</td>\n",
       "      <td>Low</td>\n",
       "      <td>2</td>\n",
       "      <td>8</td>\n",
       "      <td>7</td>\n",
       "    </tr>\n",
       "    <tr>\n",
       "      <th>1</th>\n",
       "      <td>4</td>\n",
       "      <td>9</td>\n",
       "      <td>False</td>\n",
       "      <td>False</td>\n",
       "      <td>Backdoor</td>\n",
       "      <td>Backdoor</td>\n",
       "      <td>2</td>\n",
       "      <td>2</td>\n",
       "      <td>Low</td>\n",
       "      <td>2</td>\n",
       "      <td>8</td>\n",
       "      <td>5</td>\n",
       "    </tr>\n",
       "    <tr>\n",
       "      <th>2</th>\n",
       "      <td>5</td>\n",
       "      <td>9</td>\n",
       "      <td>False</td>\n",
       "      <td>False</td>\n",
       "      <td>Backdoor</td>\n",
       "      <td>Backdoor</td>\n",
       "      <td>0</td>\n",
       "      <td>2</td>\n",
       "      <td>Low</td>\n",
       "      <td>2</td>\n",
       "      <td>8</td>\n",
       "      <td>4</td>\n",
       "    </tr>\n",
       "    <tr>\n",
       "      <th>3</th>\n",
       "      <td>4</td>\n",
       "      <td>7</td>\n",
       "      <td>True</td>\n",
       "      <td>False</td>\n",
       "      <td>Backdoor</td>\n",
       "      <td>Backdoor</td>\n",
       "      <td>1</td>\n",
       "      <td>2</td>\n",
       "      <td>Low</td>\n",
       "      <td>2</td>\n",
       "      <td>8</td>\n",
       "      <td>5</td>\n",
       "    </tr>\n",
       "    <tr>\n",
       "      <th>4</th>\n",
       "      <td>8</td>\n",
       "      <td>9</td>\n",
       "      <td>False</td>\n",
       "      <td>False</td>\n",
       "      <td>Backdoor</td>\n",
       "      <td>Gut-shot</td>\n",
       "      <td>1</td>\n",
       "      <td>2</td>\n",
       "      <td>Low</td>\n",
       "      <td>2</td>\n",
       "      <td>8</td>\n",
       "      <td>1</td>\n",
       "    </tr>\n",
       "  </tbody>\n",
       "</table>\n",
       "</div>"
      ]
     },
     "execution_count": 6,
     "metadata": {},
     "output_type": "execute_result"
    }
   ],
   "execution_count": 6
  },
  {
   "metadata": {
    "ExecuteTime": {
     "end_time": "2025-09-15T01:18:51.172888Z",
     "start_time": "2025-09-14T04:46:30.418235Z"
    }
   },
   "cell_type": "code",
   "source": [
    "# aggregate to get total wins and total hands for each condition\n",
    "flop_equity = flop_hands.groupby(\n",
    "    ['players', 'hand_class', 'pocket_pair', 'suited', 'flush_potential',\n",
    "     'straight_potential', 'overcards', 'board_texture', 'board_connectivity']\n",
    ").agg(\n",
    "    total_wins=('wins', 'sum'),\n",
    "    total_hands=('total_hands', 'sum'),\n",
    ").reset_index()\n",
    "# compute win frequency\n",
    "flop_equity['win_freq'] = flop_equity['total_wins'] / flop_equity['total_hands']\n",
    "# preview data\n",
    "flop_equity.head()"
   ],
   "id": "5fe577e7e88128bc",
   "outputs": [
    {
     "data": {
      "text/plain": [
       "   players  hand_class  pocket_pair  suited flush_potential  \\\n",
       "0        2           1        False    True        Complete   \n",
       "1        2           1        False    True        Complete   \n",
       "2        2           1        False    True        Complete   \n",
       "3        2           1        False    True        Complete   \n",
       "4        2           2        False   False            None   \n",
       "\n",
       "  straight_potential  overcards  board_texture board_connectivity  total_wins  \\\n",
       "0           Complete          0              1                Low          16   \n",
       "1           Complete          0              1             Medium          32   \n",
       "2           Complete          1              1                Low          24   \n",
       "3           Complete          2              1                Low          16   \n",
       "4           Backdoor          0              3                Low         176   \n",
       "\n",
       "   total_hands  win_freq  \n",
       "0           16       1.0  \n",
       "1           32       1.0  \n",
       "2           24       1.0  \n",
       "3           16       1.0  \n",
       "4          176       1.0  "
      ],
      "text/html": [
       "<div>\n",
       "<style scoped>\n",
       "    .dataframe tbody tr th:only-of-type {\n",
       "        vertical-align: middle;\n",
       "    }\n",
       "\n",
       "    .dataframe tbody tr th {\n",
       "        vertical-align: top;\n",
       "    }\n",
       "\n",
       "    .dataframe thead th {\n",
       "        text-align: right;\n",
       "    }\n",
       "</style>\n",
       "<table border=\"1\" class=\"dataframe\">\n",
       "  <thead>\n",
       "    <tr style=\"text-align: right;\">\n",
       "      <th></th>\n",
       "      <th>players</th>\n",
       "      <th>hand_class</th>\n",
       "      <th>pocket_pair</th>\n",
       "      <th>suited</th>\n",
       "      <th>flush_potential</th>\n",
       "      <th>straight_potential</th>\n",
       "      <th>overcards</th>\n",
       "      <th>board_texture</th>\n",
       "      <th>board_connectivity</th>\n",
       "      <th>total_wins</th>\n",
       "      <th>total_hands</th>\n",
       "      <th>win_freq</th>\n",
       "    </tr>\n",
       "  </thead>\n",
       "  <tbody>\n",
       "    <tr>\n",
       "      <th>0</th>\n",
       "      <td>2</td>\n",
       "      <td>1</td>\n",
       "      <td>False</td>\n",
       "      <td>True</td>\n",
       "      <td>Complete</td>\n",
       "      <td>Complete</td>\n",
       "      <td>0</td>\n",
       "      <td>1</td>\n",
       "      <td>Low</td>\n",
       "      <td>16</td>\n",
       "      <td>16</td>\n",
       "      <td>1.0</td>\n",
       "    </tr>\n",
       "    <tr>\n",
       "      <th>1</th>\n",
       "      <td>2</td>\n",
       "      <td>1</td>\n",
       "      <td>False</td>\n",
       "      <td>True</td>\n",
       "      <td>Complete</td>\n",
       "      <td>Complete</td>\n",
       "      <td>0</td>\n",
       "      <td>1</td>\n",
       "      <td>Medium</td>\n",
       "      <td>32</td>\n",
       "      <td>32</td>\n",
       "      <td>1.0</td>\n",
       "    </tr>\n",
       "    <tr>\n",
       "      <th>2</th>\n",
       "      <td>2</td>\n",
       "      <td>1</td>\n",
       "      <td>False</td>\n",
       "      <td>True</td>\n",
       "      <td>Complete</td>\n",
       "      <td>Complete</td>\n",
       "      <td>1</td>\n",
       "      <td>1</td>\n",
       "      <td>Low</td>\n",
       "      <td>24</td>\n",
       "      <td>24</td>\n",
       "      <td>1.0</td>\n",
       "    </tr>\n",
       "    <tr>\n",
       "      <th>3</th>\n",
       "      <td>2</td>\n",
       "      <td>1</td>\n",
       "      <td>False</td>\n",
       "      <td>True</td>\n",
       "      <td>Complete</td>\n",
       "      <td>Complete</td>\n",
       "      <td>2</td>\n",
       "      <td>1</td>\n",
       "      <td>Low</td>\n",
       "      <td>16</td>\n",
       "      <td>16</td>\n",
       "      <td>1.0</td>\n",
       "    </tr>\n",
       "    <tr>\n",
       "      <th>4</th>\n",
       "      <td>2</td>\n",
       "      <td>2</td>\n",
       "      <td>False</td>\n",
       "      <td>False</td>\n",
       "      <td>None</td>\n",
       "      <td>Backdoor</td>\n",
       "      <td>0</td>\n",
       "      <td>3</td>\n",
       "      <td>Low</td>\n",
       "      <td>176</td>\n",
       "      <td>176</td>\n",
       "      <td>1.0</td>\n",
       "    </tr>\n",
       "  </tbody>\n",
       "</table>\n",
       "</div>"
      ]
     },
     "execution_count": 8,
     "metadata": {},
     "output_type": "execute_result"
    }
   ],
   "execution_count": 8
  },
  {
   "metadata": {
    "ExecuteTime": {
     "end_time": "2025-09-15T01:18:51.181589Z",
     "start_time": "2025-09-14T04:56:21.687711Z"
    }
   },
   "cell_type": "code",
   "source": [
    "# save locally\n",
    "flop_equity.to_pickle('../data/flop_equity.pkl')"
   ],
   "id": "d4fe00a70d7c04c7",
   "outputs": [],
   "execution_count": 11
  },
  {
   "metadata": {},
   "cell_type": "markdown",
   "source": "Lets also create a heatmap to visualize the average estimated flop equity by hand class and number of players.",
   "id": "232f2bd9765d92b8"
  },
  {
   "metadata": {
    "ExecuteTime": {
     "end_time": "2025-09-15T01:18:51.182545Z",
     "start_time": "2025-09-14T04:47:19.958426Z"
    }
   },
   "cell_type": "code",
   "source": [
    "import seaborn as sns\n",
    "import matplotlib.pyplot as plt\n",
    "\n",
    "evaluator = Evaluator()\n",
    "\n",
    "# Pivot for heatmap: win_freq by hand_class and players\n",
    "pivot = flop_equity.pivot_table(\n",
    "    index='hand_class', columns='players', values='win_freq', aggfunc='mean'\n",
    ")\n",
    "\n",
    "plt.figure(figsize=(10, 6))\n",
    "ax = sns.heatmap(pivot, annot=True, fmt=\".2f\", cmap='RdYlGn', cbar=False)\n",
    "plt.title(\"Average Estimated Flop Equity by Hand Class and Number of Players\")\n",
    "plt.ylabel(\"Hand Class\")\n",
    "plt.xlabel(\"Number of Players\")\n",
    "\n",
    "hand_class_labels = [evaluator.class_to_string(cls) for cls in pivot.index]\n",
    "ax.set_yticklabels(hand_class_labels, rotation=0)\n",
    "plt.savefig('../figures/flop_equity.png', dpi=300)\n",
    "plt.show()"
   ],
   "id": "17a04606b4c951c",
   "outputs": [
    {
     "data": {
      "text/plain": [
       "<Figure size 1000x600 with 1 Axes>"
      ],
      "image/png": "[encoded data removed]"
     },
     "metadata": {},
     "output_type": "display_data",
     "jetTransient": {
      "display_id": null
     }
    }
   ],
   "execution_count": 10
  },
  {
   "metadata": {},
   "cell_type": "markdown",
   "source": "**Conclusion**: In this notebook, we successfully calculated the flop equity for various hand conditions by engineering relevant features from the hole and flop cards. We grouped the hands based on these features and estimated the equity for each group, similar to our approach for pre-flop equity calculations. The resulting flop equity data can be used to inform strategic decisions in poker gameplay. We also visualized the average estimated flop equity by hand class and number of players using a heatmap, providing insights into how different hand types perform across varying player counts.",
   "id": "b9faeae50d1b7434"
  }
 ],
 "metadata": {
  "kernelspec": {
   "display_name": "Python 3",
   "language": "python",
   "name": "python3"
  },
  "language_info": {
   "codemirror_mode": {
    "name": "ipython",
    "version": 2
   },
   "file_extension": ".py",
   "mimetype": "text/x-python",
   "name": "python",
   "nbconvert_exporter": "python",
   "pygments_lexer": "ipython2",
   "version": "2.7.6"
  }
 },
 "nbformat": 4,
 "nbformat_minor": 5
}
