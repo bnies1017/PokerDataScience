{
 "cells": [
  {
   "metadata": {},
   "cell_type": "markdown",
   "source": [
    "## Section 02: Monte Carlo Equity\n",
    "**Abstract**: This notebook estimates the equity of different hands in Texas Hold'em poker at each stage of the game (Preflop, Flop, Turn, and River) using a Monte Carlo simulation approach. It processes a previously generated dataset of poker hands and engineers features that can be used to group similar hands. Then it calculates the frequency that certain types of hands will win, a useful approximation of equity. Each of these equity approximations are saved as separate dataframes for future use."
   ],
   "id": "876124f57456857f"
  },
  {
   "metadata": {
    "collapsed": true,
    "ExecuteTime": {
     "end_time": "2025-09-11T22:55:39.437510Z",
     "start_time": "2025-09-11T22:55:39.433715Z"
    }
   },
   "cell_type": "code",
   "source": [
    "# Imports\n",
    "import numpy as np\n",
    "import pandas as pd\n",
    "from deuces import Card\n",
    "from math import comb"
   ],
   "id": "da7e2358bcf5839c",
   "outputs": [],
   "execution_count": 1
  },
  {
   "metadata": {},
   "cell_type": "markdown",
   "source": "**Preflop Equity Calculation**: We estimate preflop equity by grouping hands based on their rank combinations and suitedness, and then calculating the frequency of winning for each group for various amounts of players. This is done by considering all possible opponent combinations and counting the number of times a hand wins at showdown based on showdown order and number of players.",
   "id": "279b9866b3ccbc49"
  },
  {
   "metadata": {
    "ExecuteTime": {
     "end_time": "2025-09-11T22:55:39.673533Z",
     "start_time": "2025-09-11T22:55:39.440899Z"
    }
   },
   "cell_type": "code",
   "source": [
    "# load long-form dataframe\n",
    "hands_long = pd.read_pickle('../data/hands_long.pkl')\n",
    "\n",
    "# remove all unnecessary columns, we are only interested in the player's hole cards and showdown order\n",
    "preflop_hands = hands_long[[\n",
    "    'hole_', 'showdown_order_'\n",
    "]].copy()\n",
    "# preview data\n",
    "preflop_hands.head()"
   ],
   "id": "d5c37073195f420e",
   "outputs": [
    {
     "data": {
      "text/plain": [
       "                  hole_  showdown_order_\n",
       "0    [533255, 67144223]                2\n",
       "1     [4212241, 164099]                4\n",
       "2  [268454953, 8394515]                5\n",
       "3    [8406803, 8398611]                4\n",
       "4    [16787479, 279045]                8"
      ],
      "text/html": [
       "<div>\n",
       "<style scoped>\n",
       "    .dataframe tbody tr th:only-of-type {\n",
       "        vertical-align: middle;\n",
       "    }\n",
       "\n",
       "    .dataframe tbody tr th {\n",
       "        vertical-align: top;\n",
       "    }\n",
       "\n",
       "    .dataframe thead th {\n",
       "        text-align: right;\n",
       "    }\n",
       "</style>\n",
       "<table border=\"1\" class=\"dataframe\">\n",
       "  <thead>\n",
       "    <tr style=\"text-align: right;\">\n",
       "      <th></th>\n",
       "      <th>hole_</th>\n",
       "      <th>showdown_order_</th>\n",
       "    </tr>\n",
       "  </thead>\n",
       "  <tbody>\n",
       "    <tr>\n",
       "      <th>0</th>\n",
       "      <td>[533255, 67144223]</td>\n",
       "      <td>2</td>\n",
       "    </tr>\n",
       "    <tr>\n",
       "      <th>1</th>\n",
       "      <td>[4212241, 164099]</td>\n",
       "      <td>4</td>\n",
       "    </tr>\n",
       "    <tr>\n",
       "      <th>2</th>\n",
       "      <td>[268454953, 8394515]</td>\n",
       "      <td>5</td>\n",
       "    </tr>\n",
       "    <tr>\n",
       "      <th>3</th>\n",
       "      <td>[8406803, 8398611]</td>\n",
       "      <td>4</td>\n",
       "    </tr>\n",
       "    <tr>\n",
       "      <th>4</th>\n",
       "      <td>[16787479, 279045]</td>\n",
       "      <td>8</td>\n",
       "    </tr>\n",
       "  </tbody>\n",
       "</table>\n",
       "</div>"
      ]
     },
     "execution_count": 2,
     "metadata": {},
     "output_type": "execute_result"
    }
   ],
   "execution_count": 2
  },
  {
   "metadata": {
    "ExecuteTime": {
     "end_time": "2025-09-11T22:55:40.645022Z",
     "start_time": "2025-09-11T22:55:39.734723Z"
    }
   },
   "cell_type": "code",
   "source": [
    "# we are less concerned with the exact hole cards, and more concerned with the rank combinations and suitedness because these features will allow us to group similar hands together\n",
    "# add columns that represent the rank set (frozenset of two ranks) and suitedness\n",
    "preflop_hands['rank_set'] = preflop_hands['hole_'].apply(\n",
    "    lambda cards: frozenset([Card.get_rank_int(card) for card in cards])\n",
    ")\n",
    "preflop_hands['suited'] = preflop_hands['hole_'].apply(\n",
    "    lambda cards: Card.get_suit_int(cards[0]) == Card.get_suit_int(cards[1])\n",
    ")\n",
    "preflop_hands = preflop_hands.drop(columns=['hole_'])\n",
    "# preview data\n",
    "preflop_hands.head()"
   ],
   "id": "7eab1a51c453744a",
   "outputs": [
    {
     "data": {
      "text/plain": [
       "   showdown_order_ rank_set  suited\n",
       "0                2  (10, 3)   False\n",
       "1                4   (1, 6)   False\n",
       "2                5  (12, 7)   False\n",
       "3                4      (7)   False\n",
       "4                8   (8, 2)   False"
      ],
      "text/html": [
       "<div>\n",
       "<style scoped>\n",
       "    .dataframe tbody tr th:only-of-type {\n",
       "        vertical-align: middle;\n",
       "    }\n",
       "\n",
       "    .dataframe tbody tr th {\n",
       "        vertical-align: top;\n",
       "    }\n",
       "\n",
       "    .dataframe thead th {\n",
       "        text-align: right;\n",
       "    }\n",
       "</style>\n",
       "<table border=\"1\" class=\"dataframe\">\n",
       "  <thead>\n",
       "    <tr style=\"text-align: right;\">\n",
       "      <th></th>\n",
       "      <th>showdown_order_</th>\n",
       "      <th>rank_set</th>\n",
       "      <th>suited</th>\n",
       "    </tr>\n",
       "  </thead>\n",
       "  <tbody>\n",
       "    <tr>\n",
       "      <th>0</th>\n",
       "      <td>2</td>\n",
       "      <td>(10, 3)</td>\n",
       "      <td>False</td>\n",
       "    </tr>\n",
       "    <tr>\n",
       "      <th>1</th>\n",
       "      <td>4</td>\n",
       "      <td>(1, 6)</td>\n",
       "      <td>False</td>\n",
       "    </tr>\n",
       "    <tr>\n",
       "      <th>2</th>\n",
       "      <td>5</td>\n",
       "      <td>(12, 7)</td>\n",
       "      <td>False</td>\n",
       "    </tr>\n",
       "    <tr>\n",
       "      <th>3</th>\n",
       "      <td>4</td>\n",
       "      <td>(7)</td>\n",
       "      <td>False</td>\n",
       "    </tr>\n",
       "    <tr>\n",
       "      <th>4</th>\n",
       "      <td>8</td>\n",
       "      <td>(8, 2)</td>\n",
       "      <td>False</td>\n",
       "    </tr>\n",
       "  </tbody>\n",
       "</table>\n",
       "</div>"
      ]
     },
     "execution_count": 3,
     "metadata": {},
     "output_type": "execute_result"
    }
   ],
   "execution_count": 3
  },
  {
   "metadata": {
    "ExecuteTime": {
     "end_time": "2025-09-11T22:55:40.758072Z",
     "start_time": "2025-09-11T22:55:40.752532Z"
    }
   },
   "cell_type": "code",
   "source": [
    "# create a dataframe that represents all the possible preflop conditions to account for, like number of players, rank combinations, and suitedness\n",
    "rows = []\n",
    "for players in range(2,10): # number of players from 2 to 9 (includes self)\n",
    "    for r1 in range(13): # rank 0 to 12 (2 to A)\n",
    "        for r2 in range(13): # rank 0 to 12 (2 to A)\n",
    "            rows.append({\n",
    "                'players': players,\n",
    "                'rank_set': frozenset([r1, r2]), # use frozenset to ignore order and easy comparisons\n",
    "                'suited': r1 < r2, # suited if r1 < r2 (e.g., (A, K) is suited, (K, A) is not)\n",
    "            })\n",
    "preflop_conditions = pd.DataFrame(rows)\n",
    "# preview data\n",
    "preflop_conditions.head()"
   ],
   "id": "905f8f094499e43c",
   "outputs": [
    {
     "data": {
      "text/plain": [
       "   players rank_set  suited\n",
       "0        2      (0)   False\n",
       "1        2   (0, 1)    True\n",
       "2        2   (0, 2)    True\n",
       "3        2   (0, 3)    True\n",
       "4        2   (0, 4)    True"
      ],
      "text/html": [
       "<div>\n",
       "<style scoped>\n",
       "    .dataframe tbody tr th:only-of-type {\n",
       "        vertical-align: middle;\n",
       "    }\n",
       "\n",
       "    .dataframe tbody tr th {\n",
       "        vertical-align: top;\n",
       "    }\n",
       "\n",
       "    .dataframe thead th {\n",
       "        text-align: right;\n",
       "    }\n",
       "</style>\n",
       "<table border=\"1\" class=\"dataframe\">\n",
       "  <thead>\n",
       "    <tr style=\"text-align: right;\">\n",
       "      <th></th>\n",
       "      <th>players</th>\n",
       "      <th>rank_set</th>\n",
       "      <th>suited</th>\n",
       "    </tr>\n",
       "  </thead>\n",
       "  <tbody>\n",
       "    <tr>\n",
       "      <th>0</th>\n",
       "      <td>2</td>\n",
       "      <td>(0)</td>\n",
       "      <td>False</td>\n",
       "    </tr>\n",
       "    <tr>\n",
       "      <th>1</th>\n",
       "      <td>2</td>\n",
       "      <td>(0, 1)</td>\n",
       "      <td>True</td>\n",
       "    </tr>\n",
       "    <tr>\n",
       "      <th>2</th>\n",
       "      <td>2</td>\n",
       "      <td>(0, 2)</td>\n",
       "      <td>True</td>\n",
       "    </tr>\n",
       "    <tr>\n",
       "      <th>3</th>\n",
       "      <td>2</td>\n",
       "      <td>(0, 3)</td>\n",
       "      <td>True</td>\n",
       "    </tr>\n",
       "    <tr>\n",
       "      <th>4</th>\n",
       "      <td>2</td>\n",
       "      <td>(0, 4)</td>\n",
       "      <td>True</td>\n",
       "    </tr>\n",
       "  </tbody>\n",
       "</table>\n",
       "</div>"
      ]
     },
     "execution_count": 4,
     "metadata": {},
     "output_type": "execute_result"
    }
   ],
   "execution_count": 4
  },
  {
   "metadata": {
    "ExecuteTime": {
     "end_time": "2025-09-11T22:55:41.223390Z",
     "start_time": "2025-09-11T22:55:40.801584Z"
    }
   },
   "cell_type": "code",
   "source": [
    "# merge the two dataframes to get all combinations preflop features and number of players\n",
    "preflop_hands = preflop_hands.merge(\n",
    "    preflop_conditions,\n",
    "    on=['rank_set', 'suited'],\n",
    ")\n",
    "# we should have 900k * 8 = 7.2 million rows now\n",
    "preflop_hands.info()"
   ],
   "id": "f3b79fbe97f62e01",
   "outputs": [
    {
     "name": "stdout",
     "output_type": "stream",
     "text": [
      "<class 'pandas.core.frame.DataFrame'>\n",
      "RangeIndex: 7200000 entries, 0 to 7199999\n",
      "Data columns (total 4 columns):\n",
      " #   Column           Dtype \n",
      "---  ------           ----- \n",
      " 0   showdown_order_  int64 \n",
      " 1   rank_set         object\n",
      " 2   suited           bool  \n",
      " 3   players          int64 \n",
      "dtypes: bool(1), int64(2), object(1)\n",
      "memory usage: 171.7+ MB\n"
     ]
    }
   ],
   "execution_count": 5
  },
  {
   "metadata": {},
   "cell_type": "markdown",
   "source": [
    "Here is where things get tricky. We need to calculate the number of times a hand would win at showdown given its showdown order $O \\in [1,9]$ and number of players $P \\in [2,9]$. We also need to calculate the total number of hands to consider for $P$ players. We can calculate these two values using combinatorics.\n",
    "\n",
    "When trying to determine how many hands we need to consider for $P$ players, we can think of it as choosing $P-1$ opponents from the 8 total opponents (since one player is the target). Thus, the total number of hands to consider for $P$ players is given by:\n",
    "$$\n",
    "\\text{total hands} = \\binom{8}{P-1}\n",
    "$$\n",
    "When trying to determine how many times a hand would win at showdown given its showdown order $O$ and number of players $P$, there are $9-O$ players with worse showdown order (9 total players - O players with less than or equal showdown order). We need to choose $P-1$ opponents from these $9-O$ players. Thus, the number of times a hand would win at showdown is given by:\n",
    "$$\n",
    "\\text{wins} = \\binom{9 - O}{P-1}\n",
    "$$"
   ],
   "id": "7642b4c93110fd47"
  },
  {
   "metadata": {
    "ExecuteTime": {
     "end_time": "2025-09-11T22:56:02.550997Z",
     "start_time": "2025-09-11T22:55:41.251298Z"
    }
   },
   "cell_type": "code",
   "source": [
    "# add columns that represent the total number of hands to consider for P players, and the number of times the hand won (showdown_order_ is minimum compared to a combination of P-1 other players)\n",
    "\n",
    "# For each row, total_hands is the number of ways to choose (players-1) opponents from 8 possible opponents\n",
    "preflop_hands['total_hands'] = preflop_hands['players'].apply(lambda p: comb(8, p-1))\n",
    "\n",
    "# for each row, wins is the number of ways to choose (players-1) opponents from those with worse showdown_order_\n",
    "preflop_hands['wins'] = preflop_hands.apply(\n",
    "    lambda row: comb(9 - row['showdown_order_'], row['players'] - 1),\n",
    "    axis=1\n",
    ")\n",
    "# preview data\n",
    "preflop_hands.head()"
   ],
   "id": "dc5e9b78e179b4fd",
   "outputs": [
    {
     "data": {
      "text/plain": [
       "   showdown_order_ rank_set  suited  players  total_hands  wins\n",
       "0                2  (10, 3)   False        2            8     7\n",
       "1                2  (10, 3)   False        3           28    21\n",
       "2                2  (10, 3)   False        4           56    35\n",
       "3                2  (10, 3)   False        5           70    35\n",
       "4                2  (10, 3)   False        6           56    21"
      ],
      "text/html": [
       "<div>\n",
       "<style scoped>\n",
       "    .dataframe tbody tr th:only-of-type {\n",
       "        vertical-align: middle;\n",
       "    }\n",
       "\n",
       "    .dataframe tbody tr th {\n",
       "        vertical-align: top;\n",
       "    }\n",
       "\n",
       "    .dataframe thead th {\n",
       "        text-align: right;\n",
       "    }\n",
       "</style>\n",
       "<table border=\"1\" class=\"dataframe\">\n",
       "  <thead>\n",
       "    <tr style=\"text-align: right;\">\n",
       "      <th></th>\n",
       "      <th>showdown_order_</th>\n",
       "      <th>rank_set</th>\n",
       "      <th>suited</th>\n",
       "      <th>players</th>\n",
       "      <th>total_hands</th>\n",
       "      <th>wins</th>\n",
       "    </tr>\n",
       "  </thead>\n",
       "  <tbody>\n",
       "    <tr>\n",
       "      <th>0</th>\n",
       "      <td>2</td>\n",
       "      <td>(10, 3)</td>\n",
       "      <td>False</td>\n",
       "      <td>2</td>\n",
       "      <td>8</td>\n",
       "      <td>7</td>\n",
       "    </tr>\n",
       "    <tr>\n",
       "      <th>1</th>\n",
       "      <td>2</td>\n",
       "      <td>(10, 3)</td>\n",
       "      <td>False</td>\n",
       "      <td>3</td>\n",
       "      <td>28</td>\n",
       "      <td>21</td>\n",
       "    </tr>\n",
       "    <tr>\n",
       "      <th>2</th>\n",
       "      <td>2</td>\n",
       "      <td>(10, 3)</td>\n",
       "      <td>False</td>\n",
       "      <td>4</td>\n",
       "      <td>56</td>\n",
       "      <td>35</td>\n",
       "    </tr>\n",
       "    <tr>\n",
       "      <th>3</th>\n",
       "      <td>2</td>\n",
       "      <td>(10, 3)</td>\n",
       "      <td>False</td>\n",
       "      <td>5</td>\n",
       "      <td>70</td>\n",
       "      <td>35</td>\n",
       "    </tr>\n",
       "    <tr>\n",
       "      <th>4</th>\n",
       "      <td>2</td>\n",
       "      <td>(10, 3)</td>\n",
       "      <td>False</td>\n",
       "      <td>6</td>\n",
       "      <td>56</td>\n",
       "      <td>21</td>\n",
       "    </tr>\n",
       "  </tbody>\n",
       "</table>\n",
       "</div>"
      ]
     },
     "execution_count": 6,
     "metadata": {},
     "output_type": "execute_result"
    }
   ],
   "execution_count": 6
  },
  {
   "metadata": {
    "ExecuteTime": {
     "end_time": "2025-09-11T22:56:03.184105Z",
     "start_time": "2025-09-11T22:56:02.602800Z"
    }
   },
   "cell_type": "code",
   "source": [
    "# aggregate to get total wins and total hands for each condition\n",
    "preflop_equity = preflop_hands.groupby(\n",
    "    ['players', 'rank_set', 'suited']\n",
    ").agg(\n",
    "    total_wins=('wins', 'sum'),\n",
    "    total_hands=('total_hands', 'sum'),\n",
    ").reset_index()\n",
    "# compute win frequency\n",
    "preflop_equity['win_freq'] = preflop_equity['total_wins'] / preflop_equity['total_hands']\n",
    "# preview data\n",
    "preflop_equity.head()"
   ],
   "id": "cff17fc03e654dfa",
   "outputs": [
    {
     "data": {
      "text/plain": [
       "   players rank_set  suited  total_wins  total_hands  win_freq\n",
       "0        2      (3)   False       19608        32024  0.612291\n",
       "1        2   (6, 7)   False       33645        66792  0.503728\n",
       "2        2   (6, 7)    True       11518        22024  0.522975\n",
       "3        2  (12, 6)   False       40294        65280  0.617249\n",
       "4        2  (12, 6)    True       14346        22728  0.631204"
      ],
      "text/html": [
       "<div>\n",
       "<style scoped>\n",
       "    .dataframe tbody tr th:only-of-type {\n",
       "        vertical-align: middle;\n",
       "    }\n",
       "\n",
       "    .dataframe tbody tr th {\n",
       "        vertical-align: top;\n",
       "    }\n",
       "\n",
       "    .dataframe thead th {\n",
       "        text-align: right;\n",
       "    }\n",
       "</style>\n",
       "<table border=\"1\" class=\"dataframe\">\n",
       "  <thead>\n",
       "    <tr style=\"text-align: right;\">\n",
       "      <th></th>\n",
       "      <th>players</th>\n",
       "      <th>rank_set</th>\n",
       "      <th>suited</th>\n",
       "      <th>total_wins</th>\n",
       "      <th>total_hands</th>\n",
       "      <th>win_freq</th>\n",
       "    </tr>\n",
       "  </thead>\n",
       "  <tbody>\n",
       "    <tr>\n",
       "      <th>0</th>\n",
       "      <td>2</td>\n",
       "      <td>(3)</td>\n",
       "      <td>False</td>\n",
       "      <td>19608</td>\n",
       "      <td>32024</td>\n",
       "      <td>0.612291</td>\n",
       "    </tr>\n",
       "    <tr>\n",
       "      <th>1</th>\n",
       "      <td>2</td>\n",
       "      <td>(6, 7)</td>\n",
       "      <td>False</td>\n",
       "      <td>33645</td>\n",
       "      <td>66792</td>\n",
       "      <td>0.503728</td>\n",
       "    </tr>\n",
       "    <tr>\n",
       "      <th>2</th>\n",
       "      <td>2</td>\n",
       "      <td>(6, 7)</td>\n",
       "      <td>True</td>\n",
       "      <td>11518</td>\n",
       "      <td>22024</td>\n",
       "      <td>0.522975</td>\n",
       "    </tr>\n",
       "    <tr>\n",
       "      <th>3</th>\n",
       "      <td>2</td>\n",
       "      <td>(12, 6)</td>\n",
       "      <td>False</td>\n",
       "      <td>40294</td>\n",
       "      <td>65280</td>\n",
       "      <td>0.617249</td>\n",
       "    </tr>\n",
       "    <tr>\n",
       "      <th>4</th>\n",
       "      <td>2</td>\n",
       "      <td>(12, 6)</td>\n",
       "      <td>True</td>\n",
       "      <td>14346</td>\n",
       "      <td>22728</td>\n",
       "      <td>0.631204</td>\n",
       "    </tr>\n",
       "  </tbody>\n",
       "</table>\n",
       "</div>"
      ]
     },
     "execution_count": 7,
     "metadata": {},
     "output_type": "execute_result"
    }
   ],
   "execution_count": 7
  },
  {
   "metadata": {
    "ExecuteTime": {
     "end_time": "2025-09-11T22:56:03.212872Z",
     "start_time": "2025-09-11T22:56:03.209816Z"
    }
   },
   "cell_type": "code",
   "source": [
    "# save preflop_equity dataframe\n",
    "preflop_equity.to_pickle('../data/preflop_equity.pkl')"
   ],
   "id": "dcc9cea9bbab2aaa",
   "outputs": [],
   "execution_count": 8
  },
  {
   "metadata": {},
   "cell_type": "markdown",
   "source": [
    "Here is a table found online that shows the true equity of various preflop hands. We can visualize our estimated preflop equity as a heatmap and compare it to to this table to see how well our estimates match up.\n",
    "![preflop_equity_table](https://static.seekingalpha.com/uploads/2023/2/17/saupload_Screen-Shot-2020-05-25-at-12.00.45-PM.png)"
   ],
   "id": "aabc5816f78154c0"
  },
  {
   "metadata": {
    "ExecuteTime": {
     "end_time": "2025-09-11T22:57:41.426838Z",
     "start_time": "2025-09-11T22:57:40.913437Z"
    }
   },
   "cell_type": "code",
   "source": [
    "import matplotlib.pyplot as plt\n",
    "import seaborn as sns\n",
    "from matplotlib.colors import ListedColormap, BoundaryNorm\n",
    "\n",
    "preflop_equity_matrix = np.zeros((13, 13)) # heads-up equity matrix 13x13 ranks (2 to A)\n",
    "\n",
    "for r1 in range(13):\n",
    "    for r2 in range(13):\n",
    "        suited = r1 > r2\n",
    "        rank_set = frozenset([r1, r2])\n",
    "        row = preflop_equity[\n",
    "            (preflop_equity['players'] == 2) &\n",
    "            (preflop_equity['rank_set'] == rank_set) &\n",
    "            (preflop_equity['suited'] == suited)\n",
    "        ]\n",
    "        preflop_equity_matrix[r1, r2] = row['win_freq'].values[0]\n",
    "\n",
    "\n",
    "preflop_equity_matrix = np.rot90(preflop_equity_matrix, 2)\n",
    "\n",
    "labels = ['A', 'K', 'Q', 'J', 'T', '9', '8', '7', '6', '5', '4', '3', '2']\n",
    "\n",
    "bins = [0, 0.4, 0.5, 0.6, 0.7, 1]\n",
    "colors = ['red', 'pink', 'yellow', 'lightgreen', 'darkgreen']  # use hex for light pink\n",
    "cmap = ListedColormap(colors)\n",
    "norm = BoundaryNorm(bins, cmap.N)\n",
    "\n",
    "fig, ax = plt.subplots()\n",
    "sns.heatmap(\n",
    "    preflop_equity_matrix,\n",
    "    annot=True,\n",
    "    fmt=\".2f\",\n",
    "    cmap=cmap,\n",
    "    norm=norm,\n",
    "    xticklabels=labels,\n",
    "    yticklabels=labels,\n",
    "    cbar=False,\n",
    "    ax=ax\n",
    ")\n",
    "ax.xaxis.set_ticks_position('top')\n",
    "ax.xaxis.set_label_position('top')\n",
    "ax.set_xlabel(\"Unsuited\")\n",
    "ax.xaxis.set_label_position('bottom')\n",
    "ax.set_ylabel(\"Suited\")\n",
    "ax.yaxis.set_label_position('right')\n",
    "plt.yticks(rotation=0),\n",
    "linecolor='white',\n",
    "linewidth=1,\n",
    "ax.tick_params(axis='both', length=0)  # removes tick lines\n",
    "\n",
    "plt.title(\"Estimated Preflop Equity Matrix (Heads-Up)\", pad=20)\n",
    "\n",
    "plt.tight_layout()\n",
    "plt.savefig('../figures/preflop_equity_matrix.png')\n",
    "plt.show()"
   ],
   "id": "b8f0bc70c6cca8bb",
   "outputs": [
    {
     "data": {
      "text/plain": [
       "<Figure size 640x480 with 1 Axes>"
      ],
      "image/png": "[encoded data removed]"
     },
     "metadata": {},
     "output_type": "display_data",
     "jetTransient": {
      "display_id": null
     }
    }
   ],
   "execution_count": 11
  },
  {
   "metadata": {},
   "cell_type": "code",
   "outputs": [],
   "execution_count": null,
   "source": "",
   "id": "85a95ade1b1b3442"
  }
 ],
 "metadata": {
  "kernelspec": {
   "display_name": "Python 3",
   "language": "python",
   "name": "python3"
  },
  "language_info": {
   "codemirror_mode": {
    "name": "ipython",
    "version": 2
   },
   "file_extension": ".py",
   "mimetype": "text/x-python",
   "name": "python",
   "nbconvert_exporter": "python",
   "pygments_lexer": "ipython2",
   "version": "2.7.6"
  }
 },
 "nbformat": 4,
 "nbformat_minor": 5
}
