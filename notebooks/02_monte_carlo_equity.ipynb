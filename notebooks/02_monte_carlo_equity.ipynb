{
 "cells": [
  {
   "cell_type": "code",
   "id": "initial_id",
   "metadata": {
    "collapsed": true,
    "ExecuteTime": {
     "end_time": "2025-09-11T18:39:05.090648Z",
     "start_time": "2025-09-11T18:39:04.938952Z"
    }
   },
   "source": [
    "# Imports\n",
    "import numpy as np\n",
    "import pandas as pd\n",
    "from deuces import Card"
   ],
   "outputs": [],
   "execution_count": 1
  },
  {
   "metadata": {
    "ExecuteTime": {
     "end_time": "2025-09-11T18:39:05.341421Z",
     "start_time": "2025-09-11T18:39:05.093776Z"
    }
   },
   "cell_type": "code",
   "source": [
    "# load long-form dataframe\n",
    "hands_long = pd.read_pickle('../data/hands_long.pkl')\n",
    "\n",
    "# remove all unnecessary columns, we are only interested in the player's hole cards and final evaluation\n",
    "preflop_hands = hands_long[[\n",
    "    'hand_id', 'player_id', 'hole_', 'river_eval_'\n",
    "]].copy()\n",
    "# preview data\n",
    "preflop_hands.head()"
   ],
   "id": "d5c37073195f420e",
   "outputs": [
    {
     "data": {
      "text/plain": [
       "   hand_id  player_id                 hole_  river_eval_\n",
       "0        0          0    [533255, 67144223]         2734\n",
       "1        1          0     [4212241, 164099]         2578\n",
       "2        2          0  [268454953, 8394515]         5977\n",
       "3        3          0    [8406803, 8398611]         2516\n",
       "4        4          0    [16787479, 279045]         3346"
      ],
      "text/html": [
       "<div>\n",
       "<style scoped>\n",
       "    .dataframe tbody tr th:only-of-type {\n",
       "        vertical-align: middle;\n",
       "    }\n",
       "\n",
       "    .dataframe tbody tr th {\n",
       "        vertical-align: top;\n",
       "    }\n",
       "\n",
       "    .dataframe thead th {\n",
       "        text-align: right;\n",
       "    }\n",
       "</style>\n",
       "<table border=\"1\" class=\"dataframe\">\n",
       "  <thead>\n",
       "    <tr style=\"text-align: right;\">\n",
       "      <th></th>\n",
       "      <th>hand_id</th>\n",
       "      <th>player_id</th>\n",
       "      <th>hole_</th>\n",
       "      <th>river_eval_</th>\n",
       "    </tr>\n",
       "  </thead>\n",
       "  <tbody>\n",
       "    <tr>\n",
       "      <th>0</th>\n",
       "      <td>0</td>\n",
       "      <td>0</td>\n",
       "      <td>[533255, 67144223]</td>\n",
       "      <td>2734</td>\n",
       "    </tr>\n",
       "    <tr>\n",
       "      <th>1</th>\n",
       "      <td>1</td>\n",
       "      <td>0</td>\n",
       "      <td>[4212241, 164099]</td>\n",
       "      <td>2578</td>\n",
       "    </tr>\n",
       "    <tr>\n",
       "      <th>2</th>\n",
       "      <td>2</td>\n",
       "      <td>0</td>\n",
       "      <td>[268454953, 8394515]</td>\n",
       "      <td>5977</td>\n",
       "    </tr>\n",
       "    <tr>\n",
       "      <th>3</th>\n",
       "      <td>3</td>\n",
       "      <td>0</td>\n",
       "      <td>[8406803, 8398611]</td>\n",
       "      <td>2516</td>\n",
       "    </tr>\n",
       "    <tr>\n",
       "      <th>4</th>\n",
       "      <td>4</td>\n",
       "      <td>0</td>\n",
       "      <td>[16787479, 279045]</td>\n",
       "      <td>3346</td>\n",
       "    </tr>\n",
       "  </tbody>\n",
       "</table>\n",
       "</div>"
      ]
     },
     "execution_count": 2,
     "metadata": {},
     "output_type": "execute_result"
    }
   ],
   "execution_count": 2
  },
  {
   "metadata": {
    "ExecuteTime": {
     "end_time": "2025-09-11T18:39:06.475880Z",
     "start_time": "2025-09-11T18:39:05.409008Z"
    }
   },
   "cell_type": "code",
   "source": [
    "# we are less concerned with the exact hole cards, and more concerned with the rank combinations and suitedness\n",
    "preflop_hands['rank_set'] = preflop_hands['hole_'].apply(\n",
    "    lambda cards: frozenset([Card.get_rank_int(card) for card in cards])\n",
    ")\n",
    "preflop_hands['suited'] = preflop_hands['hole_'].apply(\n",
    "    lambda cards: Card.get_suit_int(cards[0]) == Card.get_suit_int(cards[1])\n",
    ")\n",
    "preflop_hands = preflop_hands.drop(columns=['hole_'])\n",
    "# preview data\n",
    "preflop_hands.head()"
   ],
   "id": "7eab1a51c453744a",
   "outputs": [
    {
     "data": {
      "text/plain": [
       "   hand_id  player_id  river_eval_ rank_set  suited\n",
       "0        0          0         2734  (10, 3)   False\n",
       "1        1          0         2578   (1, 6)   False\n",
       "2        2          0         5977  (12, 7)   False\n",
       "3        3          0         2516      (7)   False\n",
       "4        4          0         3346   (8, 2)   False"
      ],
      "text/html": [
       "<div>\n",
       "<style scoped>\n",
       "    .dataframe tbody tr th:only-of-type {\n",
       "        vertical-align: middle;\n",
       "    }\n",
       "\n",
       "    .dataframe tbody tr th {\n",
       "        vertical-align: top;\n",
       "    }\n",
       "\n",
       "    .dataframe thead th {\n",
       "        text-align: right;\n",
       "    }\n",
       "</style>\n",
       "<table border=\"1\" class=\"dataframe\">\n",
       "  <thead>\n",
       "    <tr style=\"text-align: right;\">\n",
       "      <th></th>\n",
       "      <th>hand_id</th>\n",
       "      <th>player_id</th>\n",
       "      <th>river_eval_</th>\n",
       "      <th>rank_set</th>\n",
       "      <th>suited</th>\n",
       "    </tr>\n",
       "  </thead>\n",
       "  <tbody>\n",
       "    <tr>\n",
       "      <th>0</th>\n",
       "      <td>0</td>\n",
       "      <td>0</td>\n",
       "      <td>2734</td>\n",
       "      <td>(10, 3)</td>\n",
       "      <td>False</td>\n",
       "    </tr>\n",
       "    <tr>\n",
       "      <th>1</th>\n",
       "      <td>1</td>\n",
       "      <td>0</td>\n",
       "      <td>2578</td>\n",
       "      <td>(1, 6)</td>\n",
       "      <td>False</td>\n",
       "    </tr>\n",
       "    <tr>\n",
       "      <th>2</th>\n",
       "      <td>2</td>\n",
       "      <td>0</td>\n",
       "      <td>5977</td>\n",
       "      <td>(12, 7)</td>\n",
       "      <td>False</td>\n",
       "    </tr>\n",
       "    <tr>\n",
       "      <th>3</th>\n",
       "      <td>3</td>\n",
       "      <td>0</td>\n",
       "      <td>2516</td>\n",
       "      <td>(7)</td>\n",
       "      <td>False</td>\n",
       "    </tr>\n",
       "    <tr>\n",
       "      <th>4</th>\n",
       "      <td>4</td>\n",
       "      <td>0</td>\n",
       "      <td>3346</td>\n",
       "      <td>(8, 2)</td>\n",
       "      <td>False</td>\n",
       "    </tr>\n",
       "  </tbody>\n",
       "</table>\n",
       "</div>"
      ]
     },
     "execution_count": 3,
     "metadata": {},
     "output_type": "execute_result"
    }
   ],
   "execution_count": 3
  },
  {
   "metadata": {
    "ExecuteTime": {
     "end_time": "2025-09-11T18:39:06.603850Z",
     "start_time": "2025-09-11T18:39:06.597672Z"
    }
   },
   "cell_type": "code",
   "source": [
    "# create a dataframe that represents all the possible preflop conditions to account for, like number of players, rank combinations, and suitedness\n",
    "rows = []\n",
    "for players in range(2,10): # number of players from 2 to 9 (includes self)\n",
    "    for r1 in range(13): # rank 0 to 12 (2 to A)\n",
    "        for r2 in range(13): # rank 0 to 12 (2 to A)\n",
    "            rows.append({\n",
    "                'players': players,\n",
    "                'rank_set': frozenset([r1, r2]), # use frozenset to ignore order and easy comparisons\n",
    "                'suited': r1 < r2, # suited if r1 < r2 (e.g., (A, K) is suited, (K, A) is not)\n",
    "            })\n",
    "preflop_conditions = pd.DataFrame(rows)\n",
    "# preview data\n",
    "preflop_conditions.head()"
   ],
   "id": "905f8f094499e43c",
   "outputs": [
    {
     "data": {
      "text/plain": [
       "   players rank_set  suited\n",
       "0        2      (0)   False\n",
       "1        2   (0, 1)    True\n",
       "2        2   (0, 2)    True\n",
       "3        2   (0, 3)    True\n",
       "4        2   (0, 4)    True"
      ],
      "text/html": [
       "<div>\n",
       "<style scoped>\n",
       "    .dataframe tbody tr th:only-of-type {\n",
       "        vertical-align: middle;\n",
       "    }\n",
       "\n",
       "    .dataframe tbody tr th {\n",
       "        vertical-align: top;\n",
       "    }\n",
       "\n",
       "    .dataframe thead th {\n",
       "        text-align: right;\n",
       "    }\n",
       "</style>\n",
       "<table border=\"1\" class=\"dataframe\">\n",
       "  <thead>\n",
       "    <tr style=\"text-align: right;\">\n",
       "      <th></th>\n",
       "      <th>players</th>\n",
       "      <th>rank_set</th>\n",
       "      <th>suited</th>\n",
       "    </tr>\n",
       "  </thead>\n",
       "  <tbody>\n",
       "    <tr>\n",
       "      <th>0</th>\n",
       "      <td>2</td>\n",
       "      <td>(0)</td>\n",
       "      <td>False</td>\n",
       "    </tr>\n",
       "    <tr>\n",
       "      <th>1</th>\n",
       "      <td>2</td>\n",
       "      <td>(0, 1)</td>\n",
       "      <td>True</td>\n",
       "    </tr>\n",
       "    <tr>\n",
       "      <th>2</th>\n",
       "      <td>2</td>\n",
       "      <td>(0, 2)</td>\n",
       "      <td>True</td>\n",
       "    </tr>\n",
       "    <tr>\n",
       "      <th>3</th>\n",
       "      <td>2</td>\n",
       "      <td>(0, 3)</td>\n",
       "      <td>True</td>\n",
       "    </tr>\n",
       "    <tr>\n",
       "      <th>4</th>\n",
       "      <td>2</td>\n",
       "      <td>(0, 4)</td>\n",
       "      <td>True</td>\n",
       "    </tr>\n",
       "  </tbody>\n",
       "</table>\n",
       "</div>"
      ]
     },
     "execution_count": 4,
     "metadata": {},
     "output_type": "execute_result"
    }
   ],
   "execution_count": 4
  },
  {
   "metadata": {
    "ExecuteTime": {
     "end_time": "2025-09-11T18:39:07.189377Z",
     "start_time": "2025-09-11T18:39:06.641307Z"
    }
   },
   "cell_type": "code",
   "source": [
    "# merge the two dataframes\n",
    "preflop_hands = preflop_hands.merge(\n",
    "    preflop_conditions,\n",
    "    on=['rank_set', 'suited'],\n",
    ")\n",
    "# we should have 900k * 8 = 7.2 million rows now\n",
    "preflop_hands.info()"
   ],
   "id": "f3b79fbe97f62e01",
   "outputs": [
    {
     "name": "stdout",
     "output_type": "stream",
     "text": [
      "<class 'pandas.core.frame.DataFrame'>\n",
      "RangeIndex: 7200000 entries, 0 to 7199999\n",
      "Data columns (total 6 columns):\n",
      " #   Column       Dtype \n",
      "---  ------       ----- \n",
      " 0   hand_id      int64 \n",
      " 1   player_id    int64 \n",
      " 2   river_eval_  int64 \n",
      " 3   rank_set     object\n",
      " 4   suited       bool  \n",
      " 5   players      int64 \n",
      "dtypes: bool(1), int64(4), object(1)\n",
      "memory usage: 281.5+ MB\n"
     ]
    }
   ],
   "execution_count": 5
  },
  {
   "metadata": {
    "ExecuteTime": {
     "end_time": "2025-09-11T18:39:07.222655Z",
     "start_time": "2025-09-11T18:39:07.221262Z"
    }
   },
   "cell_type": "code",
   "source": "",
   "id": "dc5e9b78e179b4fd",
   "outputs": [],
   "execution_count": null
  },
  {
   "metadata": {
    "ExecuteTime": {
     "end_time": "2025-09-11T18:39:07.250165Z",
     "start_time": "2025-09-11T18:39:07.248351Z"
    }
   },
   "cell_type": "code",
   "source": "",
   "id": "cff17fc03e654dfa",
   "outputs": [],
   "execution_count": null
  }
 ],
 "metadata": {
  "kernelspec": {
   "display_name": "Python 3",
   "language": "python",
   "name": "python3"
  },
  "language_info": {
   "codemirror_mode": {
    "name": "ipython",
    "version": 2
   },
   "file_extension": ".py",
   "mimetype": "text/x-python",
   "name": "python",
   "nbconvert_exporter": "python",
   "pygments_lexer": "ipython2",
   "version": "2.7.6"
  }
 },
 "nbformat": 4,
 "nbformat_minor": 5
}
