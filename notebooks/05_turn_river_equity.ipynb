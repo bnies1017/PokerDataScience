{
 "cells": [
  {
   "metadata": {},
   "cell_type": "markdown",
   "source": [
    "## Section 03: Turn and River Equity Calculation\n",
    "**Abstract**: In this notebook, we calculate the turn and river equity for each player's hand based on various engineered features derived from the hole cards and community cards. This involves grouping hands by these features and estimating the equity for each group, similar to the approach used for pre-flop and flop equity calculations. Differences in hand features and the results of this experiment rely on the fact that only one more card is to come on the turn, and none on the river, therefore the player's hand is less likely to change in strength compared to the flop."
   ],
   "id": "e62791b01bdf1720"
  },
  {
   "metadata": {
    "ExecuteTime": {
     "end_time": "2025-10-01T22:42:52.404459Z",
     "start_time": "2025-10-01T22:42:52.402072Z"
    }
   },
   "cell_type": "code",
   "source": [
    "# Imports\n",
    "import pandas as pd"
   ],
   "id": "1f98da499e3afaec",
   "outputs": [],
   "execution_count": 1
  },
  {
   "metadata": {},
   "cell_type": "markdown",
   "source": [
    "**Turn Equity Features**: We estimate turn equity by grouping hands based on features that can be engineered from the hole cards and community cards (flop + turn). These features are the same, however the model should be able to pick up on how certain features do not effect hand strength as much on the turn and river compared to the flop. These features include:\n",
    "- Hand Classification: Pair, High Card, etc.\n",
    "- Pocket Pair: Boolean indicating if the hole cards are a pocket pair.\n",
    "- Suited: Boolean indicating if the hole cards are suited.\n",
    "- Flush Potential: Complete, Open, or None.\n",
    "- Straight Potential: Complete, Open, Gut-shot, or None.\n",
    "- Overcards: Number of hole cards that are higher than the highest card on the board.\n",
    "- Board Texture: Number of unique suits on the board.\n",
    "- Board Connectivity: Number of cards required to complete a straight on the board."
   ],
   "id": "6dac6cf95caa24aa"
  },
  {
   "metadata": {
    "jupyter": {
     "is_executing": true
    },
    "ExecuteTime": {
     "start_time": "2025-10-01T22:42:52.414524Z"
    }
   },
   "cell_type": "code",
   "source": [
    "# load long-form dataframe\n",
    "hands_long = pd.read_pickle('../data/hands_long.pkl')\n",
    "\n",
    "turn_hands = hands_long[[\n",
    "    'hole_', 'flop', 'turn', 'turn_eval_', 'showdown_order_'\n",
    "]].copy()\n",
    "\n",
    "from src.helpers import hand_classification, is_pocket_pair, is_suited, flush_potential, straight_potential, overcards, board_texture, board_connectivity\n",
    "\n",
    "# add engineered features for flop equity calculation\n",
    "turn_hands['hand_class'] = turn_hands['turn_eval_'].apply(hand_classification)\n",
    "turn_hands['pocket_pair'] = turn_hands['hole_'].apply(is_pocket_pair)\n",
    "turn_hands['suited'] = turn_hands['hole_'].apply(is_suited)\n",
    "turn_hands['flush_potential'] = turn_hands[['hole_', 'flop', 'turn']].apply(\n",
    "    lambda row: flush_potential(row['hole_'], row['flop'] + [row['turn']]),\n",
    "    axis=1\n",
    ")\n",
    "turn_hands['straight_potential'] = turn_hands[['hole_','flop','turn']].apply(\n",
    "    lambda row: straight_potential(row['hole_'], row['flop'] + [row['turn']]),\n",
    "    axis=1\n",
    ")\n",
    "turn_hands['overcards'] = turn_hands[['hole_', 'flop', 'turn']].apply(\n",
    "    lambda row: overcards(row['hole_'], row['flop'] + [row['turn']]),\n",
    "    axis=1\n",
    ")\n",
    "turn_hands['board_texture'] = turn_hands[['flop','turn']].apply(\n",
    "    lambda row: board_texture(row['flop'] + [row['turn']]),\n",
    "    axis=1\n",
    ")\n",
    "turn_hands['board_connectivity'] = turn_hands[['flop', 'turn']].apply(\n",
    "    lambda row: board_connectivity(row['flop'] + [row['turn']]),\n",
    "    axis=1\n",
    ")\n",
    "# drop unnecessary columns\n",
    "turn_hands = turn_hands.drop(columns=['hole_', 'flop', 'turn', 'turn_eval_'])\n",
    "\n",
    "from src.helpers import total_hands, wins\n",
    "\n",
    "# multiply by number of players to account for different player counts\n",
    "turn_hands = pd.concat([turn_hands.assign(players=players) for players in range(2,10)], ignore_index=False)\n",
    "\n",
    "turn_hands['total_hands'] = turn_hands['players'].apply(total_hands)\n",
    "\n",
    "turn_hands['wins'] = turn_hands[['showdown_order_','players']].apply(\n",
    "    lambda row: wins(row['showdown_order_'], row['players']),\n",
    "    axis=1\n",
    ")\n",
    "\n",
    "# aggregate to get total wins and total hands for each condition\n",
    "turn_equity = turn_hands.groupby(\n",
    "    ['players', 'hand_class', 'pocket_pair', 'suited', 'flush_potential',\n",
    "     'straight_potential', 'overcards', 'board_texture', 'board_connectivity']\n",
    ").agg(\n",
    "    total_wins=('wins', 'sum'),\n",
    "    total_hands=('total_hands', 'sum'),\n",
    ").reset_index()\n",
    "# compute win frequency\n",
    "turn_equity['win_freq'] = turn_equity['total_wins'] / turn_equity['total_hands']\n",
    "\n",
    "# preview data\n",
    "turn_equity.head()"
   ],
   "id": "1190329483fa3201",
   "outputs": [],
   "execution_count": null
  },
  {
   "metadata": {},
   "cell_type": "code",
   "source": [
    "# save locally\n",
    "turn_equity.to_pickle('../data/turn_equity.pkl')\n",
    "turn_equity.to_csv('../data/turn_equity.csv', index=False)"
   ],
   "id": "f36ff9f366fa3162",
   "outputs": [],
   "execution_count": null
  },
  {
   "metadata": {},
   "cell_type": "markdown",
   "source": "Let's make a similar heatmap to visualize the average estimated turn equity by hand class and number of players, and then save it to the `figures` directory.",
   "id": "8724ca271034a1a6"
  },
  {
   "metadata": {},
   "cell_type": "code",
   "source": [
    "import seaborn as sns\n",
    "import matplotlib.pyplot as plt\n",
    "from deuces import Evaluator\n",
    "\n",
    "evaluator = Evaluator()\n",
    "\n",
    "# Pivot for heatmap: win_freq by hand_class and players\n",
    "pivot = turn_equity.pivot_table(\n",
    "    index='hand_class', columns='players', values='win_freq', aggfunc='mean'\n",
    ")\n",
    "\n",
    "plt.figure(figsize=(10, 6))\n",
    "ax = sns.heatmap(pivot, annot=True, fmt=\".2f\", cmap='RdYlGn', cbar=False)\n",
    "plt.title(\"Average Estimated Turn Equity by Hand Class and Number of Players\")\n",
    "plt.ylabel(\"Hand Class\")\n",
    "plt.xlabel(\"Number of Players\")\n",
    "\n",
    "hand_class_labels = [evaluator.class_to_string(cls) for cls in pivot.index]\n",
    "ax.set_yticklabels(hand_class_labels, rotation=0)\n",
    "plt.savefig('../figures/turn_equity.png', dpi=300)\n",
    "plt.show()"
   ],
   "id": "491816ab21ea312f",
   "outputs": [],
   "execution_count": null
  },
  {
   "metadata": {},
   "cell_type": "markdown",
   "source": "The results are a little strange, specifically the equity not being equal to 1.0 for Straight Flushes. This is likely due to the fact that we are estimating equity based on hand features, and there are very few instances of Straight Flushes in the dataset, leading to a less reliable estimate. This also might be caused by the fact that most Straight Flushes are using more of the board than of players' hole cards, causing most Straight Flushes that come out to be somewhat shared by the players. However, we can see that the general trend of stronger hands having higher equity holds true, and the model should be able to pick up on how certain features do not affect hand strength as much on the turn and river compared to the flop.",
   "id": "1d5d1b22e3e07a0b"
  },
  {
   "metadata": {},
   "cell_type": "markdown",
   "source": [
    "**River Equity Features**: We estimate river equity by grouping hands based on features that can be engineered from the hole cards and community cards (flop + turn + river). Some of these features are the same, however certain features that measure hand potential are no longer relevant on the river, since there are no more cards to come. These features include:\n",
    "- Hand Classification: Pair, High Card, etc.\n",
    "- Pocket Pair: Boolean indicating if the hole cards are a pocket pair.\n",
    "- Suited: Boolean indicating if the hole cards are suited.\n",
    "- Overcards: Number of hole cards that are higher than the highest card on the board.\n",
    "- Board Texture: Number of unique suits on the board.\n",
    "- Board Connectivity: Number of cards required to complete a straight on the board."
   ],
   "id": "e8171482fc3ca148"
  },
  {
   "metadata": {},
   "cell_type": "code",
   "source": [
    "river_hands = hands_long[[\n",
    "    'hole_', 'flop', 'turn', 'river', 'river_eval_', 'showdown_order_'\n",
    "]].copy()\n",
    "\n",
    "from src.helpers import hand_classification, is_pocket_pair, is_suited, flush_potential, straight_potential, overcards, board_texture, board_connectivity\n",
    "\n",
    "# add engineered features for river equity calculation\n",
    "river_hands['hand_class'] = river_hands['river_eval_'].apply(hand_classification)\n",
    "river_hands['pocket_pair'] = river_hands['hole_'].apply(is_pocket_pair)\n",
    "river_hands['suited'] = river_hands['hole_'].apply(is_suited)\n",
    "\n",
    "river_hands['overcards'] = river_hands[['hole_', 'flop', 'turn', 'river']].apply(\n",
    "    lambda row: overcards(row['hole_'], row['flop'] + [row['turn'], row['river']]),\n",
    "    axis=1\n",
    ")\n",
    "river_hands['board_texture'] = river_hands[['flop','turn','river']].apply(\n",
    "    lambda row: board_texture(row['flop'] + [row['turn'], row['river']]),\n",
    "    axis=1\n",
    ")\n",
    "river_hands['board_connectivity'] = river_hands[['flop', 'turn', 'river']].apply(\n",
    "    lambda row: board_connectivity(row['flop'] + [row['turn'], row['river']]),\n",
    "    axis=1\n",
    ")\n",
    "# drop unnecessary columns\n",
    "river_hands = river_hands.drop(columns=['hole_', 'flop', 'turn', 'river', 'river_eval_'])\n",
    "\n",
    "from src.helpers import total_hands, wins\n",
    "\n",
    "# multiply by number of players to account for different player counts\n",
    "river_hands = pd.concat([river_hands.assign(players=players) for players in range(2,10)], ignore_index=False)\n",
    "\n",
    "river_hands['total_hands'] = river_hands['players'].apply(total_hands)\n",
    "\n",
    "river_hands['wins'] = river_hands[['showdown_order_','players']].apply(\n",
    "    lambda row: wins(row['showdown_order_'], row['players']),\n",
    "    axis=1\n",
    ")\n",
    "\n",
    "# aggregate to get total wins and total hands for each condition\n",
    "river_equity = river_hands.groupby(\n",
    "    ['players', 'hand_class', 'pocket_pair', 'suited', 'overcards', 'board_texture', 'board_connectivity']\n",
    ").agg(\n",
    "    total_wins=('wins', 'sum'),\n",
    "    total_hands=('total_hands', 'sum'),\n",
    ").reset_index()\n",
    "# compute win frequency\n",
    "river_equity['win_freq'] = river_equity['total_wins'] / river_equity['total_hands']\n",
    "\n",
    "# preview data\n",
    "river_equity.head()"
   ],
   "id": "12c86d1e2e473506",
   "outputs": [],
   "execution_count": null
  },
  {
   "metadata": {},
   "cell_type": "code",
   "source": [
    "# save locally\n",
    "river_equity.to_pickle('../data/river_equity.pkl')\n",
    "river_equity.to_csv('../data/river_equity.csv', index=False)"
   ],
   "id": "e792ab278c907fe0",
   "outputs": [],
   "execution_count": null
  },
  {
   "metadata": {},
   "cell_type": "code",
   "source": [
    "\n",
    "# Pivot for heatmap: win_freq by hand_class and players\n",
    "pivot = river_equity.pivot_table(\n",
    "    index='hand_class', columns='players', values='win_freq', aggfunc='mean'\n",
    ")\n",
    "\n",
    "plt.figure(figsize=(10, 6))\n",
    "ax = sns.heatmap(pivot, annot=True, fmt=\".2f\", cmap='RdYlGn', cbar=False)\n",
    "plt.title(\"Average Estimated River Equity by Hand Class and Number of Players\")\n",
    "plt.ylabel(\"Hand Class\")\n",
    "plt.xlabel(\"Number of Players\")\n",
    "\n",
    "hand_class_labels = [evaluator.class_to_string(cls) for cls in pivot.index]\n",
    "ax.set_yticklabels(hand_class_labels, rotation=0)\n",
    "plt.savefig('../figures/river_equity.png', dpi=300)\n",
    "plt.show()"
   ],
   "id": "a5c759d48e729ddc",
   "outputs": [],
   "execution_count": null
  },
  {
   "metadata": {},
   "cell_type": "markdown",
   "source": "**Conclusion**: In this notebook, we calculated the turn and river equity for each player's hand based on various engineered features derived from the hole cards and community cards. We grouped hands by these features and estimated the equity for each group, similar to the approach used for pre-flop and flop equity calculations. The results showed that while certain features have less impact on hand strength as the game progresses, the general trend of stronger hands having higher equity remains consistent. This analysis provides valuable insights into hand strength dynamics throughout a poker game.",
   "id": "52f250eccef9c7e4"
  }
 ],
 "metadata": {
  "kernelspec": {
   "display_name": "Python 3",
   "language": "python",
   "name": "python3"
  },
  "language_info": {
   "codemirror_mode": {
    "name": "ipython",
    "version": 2
   },
   "file_extension": ".py",
   "mimetype": "text/x-python",
   "name": "python",
   "nbconvert_exporter": "python",
   "pygments_lexer": "ipython2",
   "version": "2.7.6"
  }
 },
 "nbformat": 4,
 "nbformat_minor": 5
}
