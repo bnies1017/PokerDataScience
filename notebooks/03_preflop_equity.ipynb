{
 "cells": [
  {
   "metadata": {},
   "cell_type": "markdown",
   "source": [
    "## Section 03: Pre-Flop Equity\n",
    "**Abstract**: This notebook estimates the equity of different hands in Texas Hold'em poker at the Pre-Flop stage of the game using a Monte Carlo simulation approach. It processes a previously generated dataset of poker hands and engineers features that can be used to group similar hands. Then it calculates the frequency that certain types of hands will win, a useful approximation of equity. These equity approximations are saved as a dataframe for future use."
   ],
   "id": "876124f57456857f"
  },
  {
   "metadata": {
    "collapsed": true,
    "ExecuteTime": {
     "end_time": "2025-10-05T21:17:09.743366Z",
     "start_time": "2025-10-05T21:17:09.741419Z"
    }
   },
   "cell_type": "code",
   "source": [
    "# Imports\n",
    "import numpy as np\n",
    "import pandas as pd\n",
    "from deuces import Card"
   ],
   "id": "da7e2358bcf5839c",
   "outputs": [],
   "execution_count": 10
  },
  {
   "metadata": {},
   "cell_type": "markdown",
   "source": "**Preflop Equity Calculation**: We estimate preflop equity by grouping hands based on their rank combinations and suitedness, and then calculating the frequency of winning for each group for various amounts of players. This is done by considering all possible opponent combinations and counting the number of times a hand wins at showdown based on showdown order and number of players.",
   "id": "279b9866b3ccbc49"
  },
  {
   "metadata": {
    "ExecuteTime": {
     "end_time": "2025-10-05T21:17:10.183923Z",
     "start_time": "2025-10-05T21:17:09.749598Z"
    }
   },
   "cell_type": "code",
   "source": [
    "\"\"\"\n",
    "strip longform data into a dataframe that represents only hole cards and showdown order\n",
    "\"\"\"\n",
    "\n",
    "# load long-form dataframe\n",
    "hands_long = pd.read_pickle('../data/hands_long.pkl')\n",
    "\n",
    "# remove all unnecessary columns, we are only interested in the player's hole cards and showdown order\n",
    "preflop_hands = hands_long[[\n",
    "    'hole_', 'showdown_order_',\n",
    "]].copy()\n",
    "# preview data\n",
    "preflop_hands.head()"
   ],
   "id": "d5c37073195f420e",
   "outputs": [
    {
     "data": {
      "text/plain": [
       "                  hole_  showdown_order_\n",
       "0    [533255, 67144223]                2\n",
       "1     [4212241, 164099]                4\n",
       "2  [268454953, 8394515]                5\n",
       "3    [8406803, 8398611]                4\n",
       "4    [16787479, 279045]                8"
      ],
      "text/html": [
       "<div>\n",
       "<style scoped>\n",
       "    .dataframe tbody tr th:only-of-type {\n",
       "        vertical-align: middle;\n",
       "    }\n",
       "\n",
       "    .dataframe tbody tr th {\n",
       "        vertical-align: top;\n",
       "    }\n",
       "\n",
       "    .dataframe thead th {\n",
       "        text-align: right;\n",
       "    }\n",
       "</style>\n",
       "<table border=\"1\" class=\"dataframe\">\n",
       "  <thead>\n",
       "    <tr style=\"text-align: right;\">\n",
       "      <th></th>\n",
       "      <th>hole_</th>\n",
       "      <th>showdown_order_</th>\n",
       "    </tr>\n",
       "  </thead>\n",
       "  <tbody>\n",
       "    <tr>\n",
       "      <th>0</th>\n",
       "      <td>[533255, 67144223]</td>\n",
       "      <td>2</td>\n",
       "    </tr>\n",
       "    <tr>\n",
       "      <th>1</th>\n",
       "      <td>[4212241, 164099]</td>\n",
       "      <td>4</td>\n",
       "    </tr>\n",
       "    <tr>\n",
       "      <th>2</th>\n",
       "      <td>[268454953, 8394515]</td>\n",
       "      <td>5</td>\n",
       "    </tr>\n",
       "    <tr>\n",
       "      <th>3</th>\n",
       "      <td>[8406803, 8398611]</td>\n",
       "      <td>4</td>\n",
       "    </tr>\n",
       "    <tr>\n",
       "      <th>4</th>\n",
       "      <td>[16787479, 279045]</td>\n",
       "      <td>8</td>\n",
       "    </tr>\n",
       "  </tbody>\n",
       "</table>\n",
       "</div>"
      ]
     },
     "execution_count": 11,
     "metadata": {},
     "output_type": "execute_result"
    }
   ],
   "execution_count": 11
  },
  {
   "metadata": {
    "ExecuteTime": {
     "end_time": "2025-10-05T21:17:11.446842Z",
     "start_time": "2025-10-05T21:17:10.225644Z"
    }
   },
   "cell_type": "code",
   "source": [
    "\"\"\"\n",
    "Turn hole cards into a a column for rank set (unique integers) and suited (boolean)\n",
    "\"\"\"\n",
    "preflop_hands['rank_set'] = preflop_hands['hole_'].apply(\n",
    "    lambda cards: frozenset([Card.get_rank_int(card) for card in cards])\n",
    ")\n",
    "preflop_hands['suited'] = preflop_hands['hole_'].apply(\n",
    "    lambda cards: Card.get_suit_int(cards[0]) == Card.get_suit_int(cards[1])\n",
    ")\n",
    "preflop_hands = preflop_hands.drop(columns=['hole_'])\n",
    "# preview data\n",
    "preflop_hands.head()"
   ],
   "id": "7eab1a51c453744a",
   "outputs": [
    {
     "data": {
      "text/plain": [
       "   showdown_order_ rank_set  suited\n",
       "0                2  (10, 3)   False\n",
       "1                4   (1, 6)   False\n",
       "2                5  (12, 7)   False\n",
       "3                4      (7)   False\n",
       "4                8   (8, 2)   False"
      ],
      "text/html": [
       "<div>\n",
       "<style scoped>\n",
       "    .dataframe tbody tr th:only-of-type {\n",
       "        vertical-align: middle;\n",
       "    }\n",
       "\n",
       "    .dataframe tbody tr th {\n",
       "        vertical-align: top;\n",
       "    }\n",
       "\n",
       "    .dataframe thead th {\n",
       "        text-align: right;\n",
       "    }\n",
       "</style>\n",
       "<table border=\"1\" class=\"dataframe\">\n",
       "  <thead>\n",
       "    <tr style=\"text-align: right;\">\n",
       "      <th></th>\n",
       "      <th>showdown_order_</th>\n",
       "      <th>rank_set</th>\n",
       "      <th>suited</th>\n",
       "    </tr>\n",
       "  </thead>\n",
       "  <tbody>\n",
       "    <tr>\n",
       "      <th>0</th>\n",
       "      <td>2</td>\n",
       "      <td>(10, 3)</td>\n",
       "      <td>False</td>\n",
       "    </tr>\n",
       "    <tr>\n",
       "      <th>1</th>\n",
       "      <td>4</td>\n",
       "      <td>(1, 6)</td>\n",
       "      <td>False</td>\n",
       "    </tr>\n",
       "    <tr>\n",
       "      <th>2</th>\n",
       "      <td>5</td>\n",
       "      <td>(12, 7)</td>\n",
       "      <td>False</td>\n",
       "    </tr>\n",
       "    <tr>\n",
       "      <th>3</th>\n",
       "      <td>4</td>\n",
       "      <td>(7)</td>\n",
       "      <td>False</td>\n",
       "    </tr>\n",
       "    <tr>\n",
       "      <th>4</th>\n",
       "      <td>8</td>\n",
       "      <td>(8, 2)</td>\n",
       "      <td>False</td>\n",
       "    </tr>\n",
       "  </tbody>\n",
       "</table>\n",
       "</div>"
      ]
     },
     "execution_count": 12,
     "metadata": {},
     "output_type": "execute_result"
    }
   ],
   "execution_count": 12
  },
  {
   "metadata": {
    "ExecuteTime": {
     "end_time": "2025-10-05T21:17:11.574931Z",
     "start_time": "2025-10-05T21:17:11.566373Z"
    }
   },
   "cell_type": "code",
   "source": [
    "\"\"\"\n",
    "create a dataframe that represents all the possible preflop conditions to account for, like number of players, rank combinations, and suitedness\n",
    "\"\"\"\n",
    "rows = []\n",
    "for players in range(2,10): # number of players from 2 to 9 (includes self)\n",
    "    for r1 in range(13): # rank 0 to 12 (2 to A)\n",
    "        for r2 in range(13): # rank 0 to 12 (2 to A)\n",
    "            rows.append({\n",
    "                'players': players,\n",
    "                'rank_set': frozenset([r1, r2]), # use frozenset to ignore order and easy comparisons\n",
    "                'suited': r1 < r2, # suited if r1 < r2 (e.g., (A, K) is suited, (K, A) is not)\n",
    "            })\n",
    "preflop_conditions = pd.DataFrame(rows)\n",
    "# preview data\n",
    "preflop_conditions.head()"
   ],
   "id": "905f8f094499e43c",
   "outputs": [
    {
     "data": {
      "text/plain": [
       "   players rank_set  suited\n",
       "0        2      (0)   False\n",
       "1        2   (0, 1)    True\n",
       "2        2   (0, 2)    True\n",
       "3        2   (0, 3)    True\n",
       "4        2   (0, 4)    True"
      ],
      "text/html": [
       "<div>\n",
       "<style scoped>\n",
       "    .dataframe tbody tr th:only-of-type {\n",
       "        vertical-align: middle;\n",
       "    }\n",
       "\n",
       "    .dataframe tbody tr th {\n",
       "        vertical-align: top;\n",
       "    }\n",
       "\n",
       "    .dataframe thead th {\n",
       "        text-align: right;\n",
       "    }\n",
       "</style>\n",
       "<table border=\"1\" class=\"dataframe\">\n",
       "  <thead>\n",
       "    <tr style=\"text-align: right;\">\n",
       "      <th></th>\n",
       "      <th>players</th>\n",
       "      <th>rank_set</th>\n",
       "      <th>suited</th>\n",
       "    </tr>\n",
       "  </thead>\n",
       "  <tbody>\n",
       "    <tr>\n",
       "      <th>0</th>\n",
       "      <td>2</td>\n",
       "      <td>(0)</td>\n",
       "      <td>False</td>\n",
       "    </tr>\n",
       "    <tr>\n",
       "      <th>1</th>\n",
       "      <td>2</td>\n",
       "      <td>(0, 1)</td>\n",
       "      <td>True</td>\n",
       "    </tr>\n",
       "    <tr>\n",
       "      <th>2</th>\n",
       "      <td>2</td>\n",
       "      <td>(0, 2)</td>\n",
       "      <td>True</td>\n",
       "    </tr>\n",
       "    <tr>\n",
       "      <th>3</th>\n",
       "      <td>2</td>\n",
       "      <td>(0, 3)</td>\n",
       "      <td>True</td>\n",
       "    </tr>\n",
       "    <tr>\n",
       "      <th>4</th>\n",
       "      <td>2</td>\n",
       "      <td>(0, 4)</td>\n",
       "      <td>True</td>\n",
       "    </tr>\n",
       "  </tbody>\n",
       "</table>\n",
       "</div>"
      ]
     },
     "execution_count": 13,
     "metadata": {},
     "output_type": "execute_result"
    }
   ],
   "execution_count": 13
  },
  {
   "metadata": {
    "ExecuteTime": {
     "end_time": "2025-10-05T21:17:12.231887Z",
     "start_time": "2025-10-05T21:17:11.627097Z"
    }
   },
   "cell_type": "code",
   "source": [
    "\"\"\"\n",
    "merge the two dataframes to get all combinations preflop features and number of players\n",
    "\"\"\"\n",
    "preflop_hands = preflop_hands.merge(\n",
    "    preflop_conditions,\n",
    "    on=['rank_set', 'suited'],\n",
    ")\n",
    "# we should have 900k * 8 = 7.2 million rows now\n",
    "preflop_hands.info()"
   ],
   "id": "f3b79fbe97f62e01",
   "outputs": [
    {
     "name": "stdout",
     "output_type": "stream",
     "text": [
      "<class 'pandas.core.frame.DataFrame'>\n",
      "RangeIndex: 7200000 entries, 0 to 7199999\n",
      "Data columns (total 4 columns):\n",
      " #   Column           Dtype \n",
      "---  ------           ----- \n",
      " 0   showdown_order_  int64 \n",
      " 1   rank_set         object\n",
      " 2   suited           bool  \n",
      " 3   players          int64 \n",
      "dtypes: bool(1), int64(2), object(1)\n",
      "memory usage: 171.7+ MB\n"
     ]
    }
   ],
   "execution_count": 14
  },
  {
   "metadata": {},
   "cell_type": "markdown",
   "source": [
    "To calculate the number of times a hand would win at showdown given its showdown order $O \\in [1,9]$ and number of players $P \\in [2,9]$, as well as the total number of hands to consider for $P$ players, we can use combinatorial mathematics.\n",
    "\n",
    "When trying to determine how many hands we need to consider for $P$ players, we can think of it as choosing $P-1$ opponents from the 8 total opponents (since one player is the target). Thus, the total number of hands to consider for $P$ players is given by:\n",
    "$$\n",
    "\\text{total hands} = \\binom{8}{P-1}\n",
    "$$\n",
    "When trying to determine how many times a hand would win at showdown given its showdown order $O$ and number of players $P$, there are $9-O$ players with worse showdown order (9 total players - O players with less than or equal showdown order). We need to choose $P-1$ opponents from these $9-O$ players. Thus, the number of times a hand would win at showdown is given by:\n",
    "$$\n",
    "\\text{wins} = \\binom{9 - O}{P-1}\n",
    "$$\n",
    "These methods are defined in the functions `total_hands` and `wins` which belong to the `src.equity_features` module."
   ],
   "id": "7642b4c93110fd47"
  },
  {
   "metadata": {
    "ExecuteTime": {
     "end_time": "2025-10-05T21:17:57.810226Z",
     "start_time": "2025-10-05T21:17:12.273237Z"
    }
   },
   "cell_type": "code",
   "source": [
    "\"\"\"\n",
    "add columns that represent the total number of hands to consider for P players, and the number of times the hand won (showdown_order_ is minimum compared to a combination of P-1 other players).\n",
    "\"\"\"\n",
    "\n",
    "from src.equity_features import total_hands, wins\n",
    "\n",
    "preflop_hands['total_hands'] = preflop_hands['players'].apply(total_hands)\n",
    "\n",
    "preflop_hands['wins'] = preflop_hands[['showdown_order_','players']].apply(\n",
    "    lambda row: wins(row['showdown_order_'], row['players']),\n",
    "    axis=1\n",
    ")\n",
    "\n",
    "# preview data\n",
    "preflop_hands.head()"
   ],
   "id": "dc5e9b78e179b4fd",
   "outputs": [
    {
     "data": {
      "text/plain": [
       "   showdown_order_ rank_set  suited  players  total_hands  wins\n",
       "0                2  (10, 3)   False        2            8     7\n",
       "1                2  (10, 3)   False        3           28    21\n",
       "2                2  (10, 3)   False        4           56    35\n",
       "3                2  (10, 3)   False        5           70    35\n",
       "4                2  (10, 3)   False        6           56    21"
      ],
      "text/html": [
       "<div>\n",
       "<style scoped>\n",
       "    .dataframe tbody tr th:only-of-type {\n",
       "        vertical-align: middle;\n",
       "    }\n",
       "\n",
       "    .dataframe tbody tr th {\n",
       "        vertical-align: top;\n",
       "    }\n",
       "\n",
       "    .dataframe thead th {\n",
       "        text-align: right;\n",
       "    }\n",
       "</style>\n",
       "<table border=\"1\" class=\"dataframe\">\n",
       "  <thead>\n",
       "    <tr style=\"text-align: right;\">\n",
       "      <th></th>\n",
       "      <th>showdown_order_</th>\n",
       "      <th>rank_set</th>\n",
       "      <th>suited</th>\n",
       "      <th>players</th>\n",
       "      <th>total_hands</th>\n",
       "      <th>wins</th>\n",
       "    </tr>\n",
       "  </thead>\n",
       "  <tbody>\n",
       "    <tr>\n",
       "      <th>0</th>\n",
       "      <td>2</td>\n",
       "      <td>(10, 3)</td>\n",
       "      <td>False</td>\n",
       "      <td>2</td>\n",
       "      <td>8</td>\n",
       "      <td>7</td>\n",
       "    </tr>\n",
       "    <tr>\n",
       "      <th>1</th>\n",
       "      <td>2</td>\n",
       "      <td>(10, 3)</td>\n",
       "      <td>False</td>\n",
       "      <td>3</td>\n",
       "      <td>28</td>\n",
       "      <td>21</td>\n",
       "    </tr>\n",
       "    <tr>\n",
       "      <th>2</th>\n",
       "      <td>2</td>\n",
       "      <td>(10, 3)</td>\n",
       "      <td>False</td>\n",
       "      <td>4</td>\n",
       "      <td>56</td>\n",
       "      <td>35</td>\n",
       "    </tr>\n",
       "    <tr>\n",
       "      <th>3</th>\n",
       "      <td>2</td>\n",
       "      <td>(10, 3)</td>\n",
       "      <td>False</td>\n",
       "      <td>5</td>\n",
       "      <td>70</td>\n",
       "      <td>35</td>\n",
       "    </tr>\n",
       "    <tr>\n",
       "      <th>4</th>\n",
       "      <td>2</td>\n",
       "      <td>(10, 3)</td>\n",
       "      <td>False</td>\n",
       "      <td>6</td>\n",
       "      <td>56</td>\n",
       "      <td>21</td>\n",
       "    </tr>\n",
       "  </tbody>\n",
       "</table>\n",
       "</div>"
      ]
     },
     "execution_count": 15,
     "metadata": {},
     "output_type": "execute_result"
    }
   ],
   "execution_count": 15
  },
  {
   "metadata": {
    "ExecuteTime": {
     "end_time": "2025-10-05T21:17:58.753756Z",
     "start_time": "2025-10-05T21:17:57.901402Z"
    }
   },
   "cell_type": "code",
   "source": [
    "\"\"\"\n",
    "group preflop features and sum the equity features (total hands and wins)\n",
    "\"\"\"\n",
    "\n",
    "preflop_equity = preflop_hands.groupby(['rank_set', 'suited', 'players']).sum()\n",
    "preflop_equity = preflop_equity.drop(columns=['showdown_order_'])\n",
    "preflop_equity.reset_index(inplace=True)\n",
    "preflop_equity.info()"
   ],
   "id": "eeb1bffb03213eac",
   "outputs": [
    {
     "name": "stdout",
     "output_type": "stream",
     "text": [
      "<class 'pandas.core.frame.DataFrame'>\n",
      "RangeIndex: 1352 entries, 0 to 1351\n",
      "Data columns (total 5 columns):\n",
      " #   Column       Non-Null Count  Dtype \n",
      "---  ------       --------------  ----- \n",
      " 0   rank_set     1352 non-null   object\n",
      " 1   suited       1352 non-null   bool  \n",
      " 2   players      1352 non-null   int64 \n",
      " 3   total_hands  1352 non-null   int64 \n",
      " 4   wins         1352 non-null   int64 \n",
      "dtypes: bool(1), int64(3), object(1)\n",
      "memory usage: 43.7+ KB\n"
     ]
    }
   ],
   "execution_count": 16
  },
  {
   "metadata": {
    "jupyter": {
     "is_executing": true
    },
    "ExecuteTime": {
     "start_time": "2025-10-05T21:17:58.771368Z"
    }
   },
   "cell_type": "code",
   "source": [
    "\"\"\"\n",
    "convert rankset to separate columns to allow csv export\n",
    "\"\"\"\n",
    "def split_rankset(row):\n",
    "    if row['suited']:\n",
    "        return pd.Series(sorted(list(row['rank_set']), reverse=True))\n",
    "    elif len(row['rank_set']) == 2:\n",
    "        return pd.Series(sorted(list(row['rank_set'])))\n",
    "    else:\n",
    "        return pd.Series([list(row['rank_set'])[0], list(row['rank_set'])[0]])\n",
    "\n",
    "preflop_hands[['r1', 'r2']] = preflop_hands.apply(split_rankset, axis=1)\n",
    "preflop_equity = preflop_hands.drop(columns=['rank_set'])\n",
    "# preview data\n",
    "preflop_equity.head()"
   ],
   "id": "40d6fcfeff8713a8",
   "outputs": [],
   "execution_count": null
  },
  {
   "metadata": {
    "ExecuteTime": {
     "end_time": "2025-10-05T21:17:09.724186Z",
     "start_time": "2025-10-05T21:16:54.839725Z"
    }
   },
   "cell_type": "code",
   "source": "preflop_equity.to_csv('../data/preflop_equity.csv')",
   "id": "bd050e0690b45549",
   "outputs": [],
   "execution_count": 9
  },
  {
   "metadata": {},
   "cell_type": "markdown",
   "source": "**Conclusion**: The estimated Pre-Flop equities can be a valuable tool for players to make informed decisions during the Pre-Flop stage of Texas Holdem poker, as well as a look-up table for poker AI models. The same methodology can be extended to estimate equity at later stages of the game, such as the Flop, Turn, and River, by incorporating community cards into the simulation.",
   "id": "9c2507fe4ee04408"
  }
 ],
 "metadata": {
  "kernelspec": {
   "display_name": "Python 3",
   "language": "python",
   "name": "python3"
  },
  "language_info": {
   "codemirror_mode": {
    "name": "ipython",
    "version": 2
   },
   "file_extension": ".py",
   "mimetype": "text/x-python",
   "name": "python",
   "nbconvert_exporter": "python",
   "pygments_lexer": "ipython2",
   "version": "2.7.6"
  }
 },
 "nbformat": 4,
 "nbformat_minor": 5
}
